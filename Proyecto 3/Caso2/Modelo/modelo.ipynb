{
 "cells": [
  {
   "cell_type": "code",
   "execution_count": 19,
   "id": "eafb4bbd",
   "metadata": {},
   "outputs": [],
   "source": [
    "import matplotlib.pyplot as plt\n",
    "import pandas as pd\n",
    "import numpy as np\n",
    "import random\n",
    "import copy\n",
    "import folium\n",
    "import pyeasyga.pyeasyga as pyeasyga\n",
    "from pyeasyga.pyeasyga import GeneticAlgorithm\n",
    "import itertools\n",
    "from tqdm import tqdm\n",
    "import time"
   ]
  },
  {
   "cell_type": "code",
   "execution_count": 2,
   "id": "10da727e",
   "metadata": {},
   "outputs": [],
   "source": [
    "#CARGA DE DATOS\n",
    "#Se reutiliza el código de carga de datos del proyecto anterior\n",
    "\n",
    "def load_distance_time_dic(path):\n",
    "    data = pd.read_csv(path)\n",
    "    distance = {}\n",
    "    time = {}\n",
    "    for i in range(len(data)):\n",
    "        origen = int(data.iloc[i, 0])\n",
    "        destino = int(data.iloc[i, 1])\n",
    "        distance[origen, destino] = float(data.iloc[i, 2])\n",
    "        time[origen, destino] = float(data.iloc[i, 3])\n",
    "    return distance, time\n",
    "5\n",
    "def load_vehicles(path):\n",
    "    data = pd.read_csv(path)\n",
    "    vehicles = {}\n",
    "    for i in range(len(data)):\n",
    "        id = int(data.iloc[i, 0])\n",
    "        capacity = int(data.iloc[i, 1])\n",
    "        ran = float(data.iloc[i, 2])\n",
    "        vehicles[id] = (capacity, ran)\n",
    "    return vehicles\n",
    "\n",
    "def load_demand(path):\n",
    "    data = pd.read_csv(path)\n",
    "    demand_dic = {}\n",
    "    for i in range(len(data)):\n",
    "        id = int(data.iloc[i, 1])\n",
    "        demand = float(data.iloc[i, 2])\n",
    "        demand_dic[id] = demand\n",
    "    return demand_dic\n",
    "\n",
    "def load_capacity(depositPath):\n",
    "    data= pd.read_csv(depositPath)\n",
    "    N = len(data)\n",
    "    capacity_dic = {}\n",
    "    for i in range(N):\n",
    "        id = int(data.iloc[i, 1])\n",
    "    \n",
    "    return capacity_dic\n",
    "\n",
    "def load_coordinates(depotsPath, clientsPath):\n",
    "    coord = {}\n",
    "    depot = pd.read_csv(depotsPath)\n",
    "    client = pd.read_csv(clientsPath)\n",
    "    for i in range(len(depot)):\n",
    "        id = int(depot.iloc[i, 1])\n",
    "        lat = float(depot.iloc[i, 3])\n",
    "        long = float(depot.iloc[i, 2])\n",
    "        coord[id] = [lat, long]\n",
    "    for j in range(len(client)):\n",
    "        id = int(client.iloc[j, 1])\n",
    "        lat = float(client.iloc[j, 4])\n",
    "        long = float(client.iloc[j, 3])\n",
    "        coord[id] = [lat, long]\n",
    "    return coord\n"
   ]
  },
  {
   "cell_type": "code",
   "execution_count": 3,
   "id": "e3cf0fe2",
   "metadata": {},
   "outputs": [
    {
     "name": "stdout",
     "output_type": "stream",
     "text": [
      "Distancia: {(1, 2): 26758.6, (1, 3): 30281.7, (1, 4): 16633.0, (1, 5): 26682.5, (1, 6): 11143.5, (1, 7): 22303.2, (1, 8): 23954.4, (1, 9): 19324.8, (1, 10): 23519.2, (2, 1): 36838.7, (2, 3): 8088.9, (2, 4): 20656.2, (2, 5): 3040.5, (2, 6): 26605.6, (2, 7): 13207.8, (2, 8): 26859.2, (2, 9): 25021.6, (2, 10): 14769.4, (3, 1): 32641.9, (3, 2): 7954.2, (3, 4): 24137.5, (3, 5): 9617.3, (3, 6): 22408.7, (3, 7): 13554.7, (3, 8): 22662.4, (3, 9): 20824.8, (3, 10): 11688.2, (4, 1): 18374.9, (4, 2): 18491.8, (4, 3): 21973.9, (4, 5): 18415.7, (4, 6): 8141.7, (4, 7): 14036.4, (4, 8): 15646.6, (4, 9): 6450.7, (4, 10): 14630.1, (5, 1): 29333.9, (5, 2): 2467.1, (5, 3): 9430.3, (5, 4): 20566.6, (5, 6): 19100.7, (5, 7): 13118.3, (5, 8): 26335.3, (5, 9): 24497.7, (5, 10): 14245.4, (6, 1): 12890.9, (6, 2): 19093.0, (6, 3): 22616.2, (6, 4): 8349.2, (6, 5): 19017.0, (6, 7): 14637.7, (6, 8): 16288.9, (6, 9): 11659.2, (6, 10): 15853.7, (7, 1): 15966.8, (7, 2): 11021.6, (7, 3): 12047.6, (7, 4): 15685.4, (7, 5): 10945.6, (7, 6): 14219.5, (7, 8): 21784.7, (7, 9): 17008.0, (7, 10): 10207.8, (8, 1): 26974.5, (8, 2): 24872.3, (8, 3): 20043.3, (8, 4): 17041.3, (8, 5): 24796.2, (8, 6): 16741.4, (8, 7): 22321.2, (8, 9): 10512.1, (8, 10): 12902.4, (9, 1): 21278.0, (9, 2): 23486.9, (9, 3): 19670.9, (9, 4): 9999.5, (9, 5): 23410.8, (9, 6): 11044.8, (9, 7): 18731.1, (9, 8): 10101.6, (9, 10): 12908.4, (10, 1): 25434.9, (10, 2): 13665.9, (10, 3): 11414.9, (10, 4): 16930.5, (10, 5): 13589.8, (10, 6): 15201.7, (10, 7): 10388.7, (10, 8): 12054.6, (10, 9): 13617.8}\n",
      "Vehiculos: {1: (131, 145.85207096486445), 2: (108, 1304.605971281605), 3: (91, 953.172608610164), 4: (32, 17.302304187458727), 5: (22, 16.627680130757895), 6: (22, 13.602810739289229)}\n",
      "Demanda: {2: 12.0, 3: 15.0, 4: 15.0, 5: 6.0, 6: 5.0, 7: 11.0, 8: 12.0, 9: 10.0, 10: 15.0}\n",
      "Coordenadas: {1: [4.743359, -74.153536], 2: [4.632552840424734, -74.19699184741948], 3: [4.601328214582278, -74.15503659129905], 4: [4.732421040989568, -74.10178731827096], 5: [4.638612189685843, -74.19486224157397], 6: [4.727691608175209, -74.11027242131048], 7: [4.665002925306577, -74.15228946899238], 8: [4.6771016997028205, -74.03241075805882], 9: [4.707007012114083, -74.0624758742746], 10: [4.636074548012315, -74.09804168568287]}\n",
      "Time: {(1, 2): 2522.9, (1, 3): 2697.0, (1, 4): 1733.3, (1, 5): 2549.3, (1, 6): 1436.4, (1, 7): 2162.9, (1, 8): 2329.6, (1, 9): 1732.0, (1, 10): 2151.4, (2, 1): 2834.2, (2, 3): 553.0, (2, 4): 1816.0, (2, 5): 284.5, (2, 6): 1742.7, (2, 7): 1213.3, (2, 8): 2077.4, (2, 9): 1607.0, (2, 10): 1100.7, (3, 1): 2591.5, (3, 2): 531.6, (3, 4): 1608.9, (3, 5): 725.0, (3, 6): 1500.0, (3, 7): 1203.5, (3, 8): 1834.7, (3, 9): 1364.3, (3, 10): 870.7, (4, 1): 1687.8, (4, 2): 1441.2, (4, 3): 1657.3, (4, 5): 1467.6, (4, 6): 596.3, (4, 7): 1081.2, (4, 8): 1289.9, (4, 9): 475.9, (4, 10): 1098.1, (5, 1): 2886.5, (5, 2): 240.7, (5, 3): 713.9, (5, 4): 1853.1, (5, 6): 1795.0, (5, 7): 1250.4, (5, 8): 2147.3, (5, 9): 1676.9, (5, 10): 1170.6, (6, 1): 1414.8, (6, 2): 1536.8, (6, 3): 1710.9, (6, 4): 651.4, (6, 5): 1563.2, (6, 7): 1176.8, (6, 8): 1343.5, (6, 9): 745.9, (6, 10): 1165.3, (7, 1): 2096.0, (7, 2): 952.1, (7, 3): 1181.9, (7, 4): 1412.4, (7, 5): 978.5, (7, 6): 1354.3, (7, 8): 1929.0, (7, 9): 1274.8, (7, 10): 945.6, (8, 1): 2511.2, (8, 2): 2200.3, (8, 3): 1883.8, (8, 4): 1510.9, (8, 5): 2226.7, (8, 6): 1419.7, (8, 7): 2012.0, (8, 9): 1033.7, (8, 10): 1441.8, (9, 1): 2019.7, (9, 2): 1814.5, (9, 3): 1600.3, (9, 4): 799.2, (9, 5): 1840.9, (9, 6): 928.2, (9, 7): 1461.1, (9, 8): 1146.1, (9, 10): 1054.7, (10, 1): 2167.7, (10, 2): 1027.0, (10, 3): 880.8, (10, 4): 1185.1, (10, 5): 1053.4, (10, 6): 1076.2, (10, 7): 974.0, (10, 8): 1299.9, (10, 9): 940.5}\n"
     ]
    }
   ],
   "source": [
    "distancia,time_dic = load_distance_time_dic('../Datos/caso2.csv')\n",
    "vehiculos = load_vehicles('../Datos/vehicles.csv')\n",
    "demanda = load_demand('../Datos/clients.csv')\n",
    "coord = load_coordinates('../Datos/depots.csv', '../Datos/clients.csv')\n",
    "print(f\"Distancia: {distancia}\")\n",
    "print(f\"Vehiculos: {vehiculos}\")\n",
    "print(f\"Demanda: {demanda}\")\n",
    "print(f\"Coordenadas: {coord}\")\n",
    "print(f\"Time: {time_dic}\")\n",
    "\n"
   ]
  },
  {
   "cell_type": "code",
   "execution_count": 4,
   "id": "6b759b82",
   "metadata": {},
   "outputs": [],
   "source": [
    "depot_id = 1  # depósito con demanda 0\n",
    "pf = 15000\n",
    "ft = 5000\n",
    "cm = 700\n",
    "gv = 0.411458\n",
    "\n",
    "class VRPGeneticAlgorithm:\n",
    "    def __init__(self, distance, demand, vehicles, coord):\n",
    "        self.distance = distance\n",
    "        self.demand = demand\n",
    "        self.vehicles = vehicles\n",
    "        self.coord = coord\n",
    "        self.clientes = [c for c in demand.keys() if c != depot_id]\n",
    "        self.demand[depot_id] = 0\n",
    "        \n",
    "    def create_individual(self, data):\n",
    "        \"\"\"Crear un individuo (conjunto de rutas)\"\"\"\n",
    "        n_vehiculos = len(self.vehicles)\n",
    "        rutas = [[] for _ in range(n_vehiculos)]\n",
    "        clientes_copy = self.clientes[:]\n",
    "        random.shuffle(clientes_copy)\n",
    "        \n",
    "        # Asignar cada cliente exactamente a un vehículo (round robin)\n",
    "        for idx, cliente in enumerate(clientes_copy):\n",
    "            v_id = idx % n_vehiculos\n",
    "            rutas[v_id].append(cliente)\n",
    "        \n",
    "        # Agregar depósito al inicio y fin de cada ruta\n",
    "        rutas = [[depot_id] + ruta + [depot_id] if ruta else [] for ruta in rutas]\n",
    "        return rutas\n",
    "\n",
    "    def mutate_individual(self, individual, data=None):\n",
    "        \"\"\"Mutación: mover un cliente de un vehículo a otro\"\"\"\n",
    "        nuevas_rutas = copy.deepcopy(individual)\n",
    "        \n",
    "        # Encontrar vehículos con rutas no vacías\n",
    "        vehiculos_con_rutas = [i for i, ruta in enumerate(nuevas_rutas) if len(ruta) > 2]\n",
    "        \n",
    "        if len(vehiculos_con_rutas) < 2:\n",
    "            return nuevas_rutas\n",
    "        \n",
    "        # Elegir dos vehículos distintos\n",
    "        v1, v2 = random.sample(vehiculos_con_rutas, 2)\n",
    "        \n",
    "        if len(nuevas_rutas[v1]) > 2:\n",
    "            # Seleccionar cliente aleatorio (excluyendo depósitos)\n",
    "            cliente = random.choice(nuevas_rutas[v1][1:-1])\n",
    "            nuevas_rutas[v1].remove(cliente)\n",
    "            \n",
    "            # Insertar cliente en posición aleatoria en v2\n",
    "            if len(nuevas_rutas[v2]) == 0:\n",
    "                nuevas_rutas[v2] = [depot_id, cliente, depot_id]\n",
    "            else:\n",
    "                pos = random.randint(1, len(nuevas_rutas[v2]) - 1)\n",
    "                nuevas_rutas[v2].insert(pos, cliente)\n",
    "        \n",
    "        return nuevas_rutas\n",
    "\n",
    "    def crossover_individuals(self, parent1, parent2, data=None):\n",
    "        \"\"\"Cruzamiento: intercambiar segmentos de rutas entre padres\"\"\"\n",
    "        hijo1 = copy.deepcopy(parent1)\n",
    "        hijo2 = copy.deepcopy(parent2)\n",
    "        \n",
    "        # Seleccionar vehículo aleatorio para cruzar\n",
    "        v = random.randint(0, len(parent1) - 1)\n",
    "        \n",
    "        if len(parent1[v]) > 2 and len(parent2[v]) > 2:\n",
    "            # Extraer rutas sin depósitos\n",
    "            ruta1 = parent1[v][1:-1]\n",
    "            ruta2 = parent2[v][1:-1]\n",
    "            \n",
    "            if ruta1 and ruta2:\n",
    "                # Punto de cruce\n",
    "                split1 = random.randint(0, len(ruta1))\n",
    "                split2 = random.randint(0, len(ruta2))\n",
    "                \n",
    "                # Crear nuevas rutas cruzadas\n",
    "                nueva_ruta1 = ruta1[:split1] + ruta2[split2:]\n",
    "                nueva_ruta2 = ruta2[:split2] + ruta1[split1:]\n",
    "                \n",
    "                # Reconstruir rutas con depósitos\n",
    "                hijo1[v] = [depot_id] + nueva_ruta1 + [depot_id] if nueva_ruta1 else []\n",
    "                hijo2[v] = [depot_id] + nueva_ruta2 + [depot_id] if nueva_ruta2 else []\n",
    "                \n",
    "                # Limpiar duplicados y reasignar clientes faltantes\n",
    "                hijo1 = self._reparar_solucion(hijo1)\n",
    "                hijo2 = self._reparar_solucion(hijo2)\n",
    "        \n",
    "        return hijo1, hijo2\n",
    "\n",
    "    def _reparar_solucion(self, rutas):\n",
    "        \"\"\"Reparar solución eliminando duplicados y asignando clientes faltantes\"\"\"\n",
    "        # Encontrar todos los clientes asignados\n",
    "        asignados = set()\n",
    "        for ruta in rutas:\n",
    "            for cliente in ruta:\n",
    "                if cliente != depot_id:\n",
    "                    asignados.add(cliente)\n",
    "        \n",
    "        # Eliminar duplicados\n",
    "        rutas_limpias = []\n",
    "        clientes_vistos = set()\n",
    "        \n",
    "        for ruta in rutas:\n",
    "            nueva_ruta = [depot_id]\n",
    "            for cliente in ruta[1:-1]:  # Excluir depósitos\n",
    "                if cliente not in clientes_vistos:\n",
    "                    nueva_ruta.append(cliente)\n",
    "                    clientes_vistos.add(cliente)\n",
    "            if len(nueva_ruta) > 1:\n",
    "                nueva_ruta.append(depot_id)\n",
    "                rutas_limpias.append(nueva_ruta)\n",
    "            else:\n",
    "                rutas_limpias.append([])\n",
    "        \n",
    "        # Asignar clientes faltantes\n",
    "        faltantes = set(self.clientes) - clientes_vistos\n",
    "        for cliente in faltantes:\n",
    "            v_id = random.randint(0, len(rutas_limpias) - 1)\n",
    "            if len(rutas_limpias[v_id]) == 0:\n",
    "                rutas_limpias[v_id] = [depot_id, cliente, depot_id]\n",
    "            else:\n",
    "                rutas_limpias[v_id].insert(-1, cliente)\n",
    "        \n",
    "        return rutas_limpias\n",
    "\n",
    "    def fitness_individual(self, individual, data):\n",
    "        \"\"\"Evaluar fitness de un individuo (menor es mejor)\"\"\"\n",
    "        claves_vehiculos = list(self.vehicles.keys())\n",
    "        total_cost = 0\n",
    "        \n",
    "        for v_id, ruta in enumerate(individual):\n",
    "            if len(ruta) <= 2:  # Ruta vacía\n",
    "                continue\n",
    "                \n",
    "            cap_max, rango_max = self.vehicles[claves_vehiculos[v_id]]\n",
    "            carga = 0\n",
    "            distancia_total = 0\n",
    "            \n",
    "            # Calcular distancia y carga de la ruta\n",
    "            for i in range(len(ruta) - 1):\n",
    "                a, b = ruta[i], ruta[i + 1]\n",
    "                distancia_total += self.distance.get((a, b), 9999999)\n",
    "                if b != depot_id:\n",
    "                    carga += self.demand.get(b, 0)\n",
    "            \n",
    "            # Calcular penalizaciones por violación de restricciones\n",
    "            penalizacion = 0\n",
    "            if carga > cap_max:\n",
    "                penalizacion += 1e6 * (carga - cap_max)\n",
    "            if distancia_total > rango_max:\n",
    "                penalizacion += 1e6 * (distancia_total - rango_max)\n",
    "            \n",
    "            # Costo total del vehículo\n",
    "            costo_vehiculo = gv * pf * distancia_total + ft + cm + penalizacion\n",
    "            total_cost += costo_vehiculo\n",
    "        \n",
    "        # pyeasyga maximiza fitness, por lo que devolvemos el negativo del costo\n",
    "        return -total_cost\n",
    "\n",
    "    def tournament_selection(self, population, tournament_size=3):\n",
    "        \"\"\"Selección por torneo\"\"\"\n",
    "        def tournament_select():\n",
    "            # Seleccionar individuos aleatorios para el torneo\n",
    "            tournament = random.sample(population, min(tournament_size, len(population)))\n",
    "            # Devolver el mejor individuo del torneo\n",
    "            return max(tournament, key=lambda x: x.fitness)\n",
    "        \n",
    "        return tournament_select\n",
    "\n",
    "    def _verificar_asignacion_completa(self, rutas):\n",
    "        \"\"\"Verificar que todos los clientes estén asignados\"\"\"\n",
    "        asignados = set()\n",
    "        for ruta in rutas:\n",
    "            for cliente in ruta:\n",
    "                if cliente != depot_id:\n",
    "                    asignados.add(cliente)\n",
    "        \n",
    "        faltantes = set(self.clientes) - asignados\n",
    "        return faltantes\n",
    "\n",
    "\n",
    "def run_ga_pyeasyga(distance, demand, vehicles, coord, \n",
    "                            n_generaciones=200, n_poblacion=50, \n",
    "                            prob_mutacion=0.2, prob_cruzamiento=0.8,\n",
    "                            elitismo=5, tournament_size=3):\n",
    "    \"\"\"\n",
    "    Versión mejorada del algoritmo genético con pyeasyga\n",
    "    \"\"\"\n",
    "    # Crear instancia del problema VRP con verificaciones extendidas\n",
    "    vrp = VRPGeneticAlgorithm(distance, demand, vehicles, coord)\n",
    "    \n",
    "    # Configurar algoritmo genético\n",
    "    ga = GeneticAlgorithm(\n",
    "        seed_data=None,\n",
    "        population_size=n_poblacion,\n",
    "        generations=n_generaciones,\n",
    "        crossover_probability=prob_cruzamiento,\n",
    "        mutation_probability=prob_mutacion,\n",
    "        elitism=True,\n",
    "        maximise_fitness=True\n",
    "    )\n",
    "    \n",
    "    # Asignar funciones personalizadas\n",
    "    ga.create_individual = vrp.create_individual\n",
    "    ga.mutate_function = vrp.mutate_individual\n",
    "    ga.crossover_function = vrp.crossover_individuals\n",
    "    ga.fitness_function = vrp.fitness_individual\n",
    "    \n",
    "    fitness_history = []\n",
    "\n",
    "    # Sobrescribir el método rank_population para guardar el mejor fitness\n",
    "    original_rank_population = ga.rank_population\n",
    "    def rank_and_record():\n",
    "        original_rank_population()\n",
    "        # El mejor fitness está en la primera posición después de ordenar\n",
    "        fitness_history.append(ga.current_generation[0].fitness)\n",
    "    ga.rank_population = rank_and_record\n",
    "    \n",
    "    # Ejecutar algoritmo genético\n",
    "    print(\"Iniciando algoritmo genético mejorado...\")\n",
    "    ga.run()\n",
    "    \n",
    "    # Obtener mejor solución\n",
    "    mejor_solucion = ga.best_individual()[1]\n",
    "    mejor_fitness = -ga.best_individual()[0]\n",
    "    \n",
    "    # Verificaciones finales\n",
    "    faltantes = vrp._verificar_asignacion_completa(mejor_solucion)\n",
    "    if faltantes:\n",
    "        print(f\"¡Atención! Algunos nodos no fueron asignados: {faltantes}\")\n",
    "    else:\n",
    "        print(\"Todos los nodos fueron asignados correctamente.\")\n",
    "    \n",
    "    print(f\"Mejor costo: {mejor_fitness}\")\n",
    "    \n",
    "    # Obtener historial de fitness\n",
    "    fitness_history = [-fitness for fitness in fitness_history]\n",
    "    \n",
    "    return mejor_solucion, fitness_history"
   ]
  },
  {
   "cell_type": "code",
   "execution_count": 5,
   "id": "fd6f1e15",
   "metadata": {},
   "outputs": [],
   "source": [
    "import folium\n",
    "\n",
    "def visualizar_rutas_folium(rutas, coord):\n",
    "    # Crear mapa centrado en depósito o promedio de coordenadas\n",
    "    lat_dep, lon_dep = coord[depot_id]\n",
    "    m = folium.Map(location=[lat_dep, lon_dep], zoom_start=11, tiles='Cartodb Positron')\n",
    "\n",
    "    colors = ['blue', 'green', 'cyan', 'magenta','olive', 'blue', 'orange', 'purple','red']\n",
    "    icons = ['blue', 'green', 'lightblue', 'pink','lightgreen', 'blue', 'orange', 'darkpurple','red']\n",
    "\n",
    "    for v, ruta in enumerate(rutas):\n",
    "        if not ruta or len(ruta) < 2:\n",
    "            continue\n",
    "\n",
    "        # Construir lista de coordenadas para PolyLine: [(lat, lon), (lat, lon), ...]\n",
    "        coords_ruta = [coord[n] for n in ruta]\n",
    "\n",
    "        # Dibujar la ruta\n",
    "        folium.PolyLine(\n",
    "            coords_ruta,\n",
    "            color=colors[v % len(colors)],\n",
    "            weight=5,\n",
    "            opacity=0.7,\n",
    "            tooltip=f'Vehículo {v}'\n",
    "        ).add_to(m)\n",
    "\n",
    "        # Marcador inicio (depósito)\n",
    "        folium.Marker(\n",
    "            coords_ruta[0],\n",
    "            popup=\"Inicio (Depósito)\",\n",
    "            icon=folium.Icon(color='black', icon='home')\n",
    "        ).add_to(m)\n",
    "\n",
    "        # Marcador fin de ruta\n",
    "        folium.Marker(\n",
    "            coords_ruta[-1],\n",
    "            popup=f\"Llegada Vehículo {v}\",\n",
    "            icon=folium.Icon(color=icons[v % len(icons)], icon='flag')\n",
    "        ).add_to(m)\n",
    "\n",
    "    return m\n"
   ]
  },
  {
   "cell_type": "code",
   "execution_count": 10,
   "id": "143bb4c0",
   "metadata": {},
   "outputs": [
    {
     "name": "stdout",
     "output_type": "stream",
     "text": [
      "Iniciando algoritmo genético mejorado...\n",
      "Todos los nodos fueron asignados correctamente.\n",
      "Mejor costo: 143480058770.35852\n"
     ]
    },
    {
     "data": {
      "image/png": "[encoded data removed]",
      "text/plain": [
       "<Figure size 1000x500 with 1 Axes>"
      ]
     },
     "metadata": {},
     "output_type": "display_data"
    },
    {
     "data": {
      "text/html": [
       "<div style=\"width:100%;\"><div style=\"position:relative;width:100%;height:0;padding-bottom:60%;\"><span style=\"color:#565656\">Make this Notebook Trusted to load map: File -> Trust Notebook</span><iframe srcdoc=\"&lt;!DOCTYPE html&gt;\n",
       "&lt;html&gt;\n",
       "&lt;head&gt;\n",
       "    \n",
       "    &lt;meta http-equiv=&quot;content-type&quot; content=&quot;text/html; charset=UTF-8&quot; /&gt;\n",
       "    \n",
       "        &lt;script&gt;\n",
       "            L_NO_TOUCH = false;\n",
       "            L_DISABLE_3D = false;\n",
       "        &lt;/script&gt;\n",
       "    \n",
       "    &lt;style&gt;html, body {width: 100%;height: 100%;margin: 0;padding: 0;}&lt;/style&gt;\n",
       "    &lt;style&gt;#map {position:absolute;top:0;bottom:0;right:0;left:0;}&lt;/style&gt;\n",
       "    &lt;script src=&quot;https://cdn.jsdelivr.net/npm/leaflet@1.9.3/dist/leaflet.js&quot;&gt;&lt;/script&gt;\n",
       "    &lt;script src=&quot;https://code.jquery.com/jquery-3.7.1.min.js&quot;&gt;&lt;/script&gt;\n",
       "    &lt;script src=&quot;https://cdn.jsdelivr.net/npm/bootstrap@5.2.2/dist/js/bootstrap.bundle.min.js&quot;&gt;&lt;/script&gt;\n",
       "    &lt;script src=&quot;https://cdnjs.cloudflare.com/ajax/libs/Leaflet.awesome-markers/2.0.2/leaflet.awesome-markers.js&quot;&gt;&lt;/script&gt;\n",
       "    &lt;link rel=&quot;stylesheet&quot; href=&quot;https://cdn.jsdelivr.net/npm/leaflet@1.9.3/dist/leaflet.css&quot;/&gt;\n",
       "    &lt;link rel=&quot;stylesheet&quot; href=&quot;https://cdn.jsdelivr.net/npm/bootstrap@5.2.2/dist/css/bootstrap.min.css&quot;/&gt;\n",
       "    &lt;link rel=&quot;stylesheet&quot; href=&quot;https://netdna.bootstrapcdn.com/bootstrap/3.0.0/css/bootstrap-glyphicons.css&quot;/&gt;\n",
       "    &lt;link rel=&quot;stylesheet&quot; href=&quot;https://cdn.jsdelivr.net/npm/@fortawesome/fontawesome-free@6.2.0/css/all.min.css&quot;/&gt;\n",
       "    &lt;link rel=&quot;stylesheet&quot; href=&quot;https://cdnjs.cloudflare.com/ajax/libs/Leaflet.awesome-markers/2.0.2/leaflet.awesome-markers.css&quot;/&gt;\n",
       "    &lt;link rel=&quot;stylesheet&quot; href=&quot;https://cdn.jsdelivr.net/gh/python-visualization/folium/folium/templates/leaflet.awesome.rotate.min.css&quot;/&gt;\n",
       "    \n",
       "            &lt;meta name=&quot;viewport&quot; content=&quot;width=device-width,\n",
       "                initial-scale=1.0, maximum-scale=1.0, user-scalable=no&quot; /&gt;\n",
       "            &lt;style&gt;\n",
       "                #map_f1b24c1ac658a2d148085d2a881fa84c {\n",
       "                    position: relative;\n",
       "                    width: 100.0%;\n",
       "                    height: 100.0%;\n",
       "                    left: 0.0%;\n",
       "                    top: 0.0%;\n",
       "                }\n",
       "                .leaflet-container { font-size: 1rem; }\n",
       "            &lt;/style&gt;\n",
       "        \n",
       "&lt;/head&gt;\n",
       "&lt;body&gt;\n",
       "    \n",
       "    \n",
       "            &lt;div class=&quot;folium-map&quot; id=&quot;map_f1b24c1ac658a2d148085d2a881fa84c&quot; &gt;&lt;/div&gt;\n",
       "        \n",
       "&lt;/body&gt;\n",
       "&lt;script&gt;\n",
       "    \n",
       "    \n",
       "            var map_f1b24c1ac658a2d148085d2a881fa84c = L.map(\n",
       "                &quot;map_f1b24c1ac658a2d148085d2a881fa84c&quot;,\n",
       "                {\n",
       "                    center: [4.743359, -74.153536],\n",
       "                    crs: L.CRS.EPSG3857,\n",
       "                    ...{\n",
       "  &quot;zoom&quot;: 11,\n",
       "  &quot;zoomControl&quot;: true,\n",
       "  &quot;preferCanvas&quot;: false,\n",
       "}\n",
       "\n",
       "                }\n",
       "            );\n",
       "\n",
       "            \n",
       "\n",
       "        \n",
       "    \n",
       "            var tile_layer_c4e194c7bf1f1e0f95521703a951c013 = L.tileLayer(\n",
       "                &quot;https://{s}.basemaps.cartocdn.com/light_all/{z}/{x}/{y}{r}.png&quot;,\n",
       "                {\n",
       "  &quot;minZoom&quot;: 0,\n",
       "  &quot;maxZoom&quot;: 20,\n",
       "  &quot;maxNativeZoom&quot;: 20,\n",
       "  &quot;noWrap&quot;: false,\n",
       "  &quot;attribution&quot;: &quot;\\u0026copy; \\u003ca href=\\&quot;https://www.openstreetmap.org/copyright\\&quot;\\u003eOpenStreetMap\\u003c/a\\u003e contributors \\u0026copy; \\u003ca href=\\&quot;https://carto.com/attributions\\&quot;\\u003eCARTO\\u003c/a\\u003e&quot;,\n",
       "  &quot;subdomains&quot;: &quot;abcd&quot;,\n",
       "  &quot;detectRetina&quot;: false,\n",
       "  &quot;tms&quot;: false,\n",
       "  &quot;opacity&quot;: 1,\n",
       "}\n",
       "\n",
       "            );\n",
       "        \n",
       "    \n",
       "            tile_layer_c4e194c7bf1f1e0f95521703a951c013.addTo(map_f1b24c1ac658a2d148085d2a881fa84c);\n",
       "        \n",
       "    \n",
       "            var poly_line_975479d08439a05defd5ef09105a96ce = L.polyline(\n",
       "                [[4.743359, -74.153536], [4.732421040989568, -74.10178731827096], [4.632552840424734, -74.19699184741948], [4.638612189685843, -74.19486224157397], [4.601328214582278, -74.15503659129905], [4.636074548012315, -74.09804168568287], [4.665002925306577, -74.15228946899238], [4.743359, -74.153536]],\n",
       "                {&quot;bubblingMouseEvents&quot;: true, &quot;color&quot;: &quot;blue&quot;, &quot;dashArray&quot;: null, &quot;dashOffset&quot;: null, &quot;fill&quot;: false, &quot;fillColor&quot;: &quot;blue&quot;, &quot;fillOpacity&quot;: 0.2, &quot;fillRule&quot;: &quot;evenodd&quot;, &quot;lineCap&quot;: &quot;round&quot;, &quot;lineJoin&quot;: &quot;round&quot;, &quot;noClip&quot;: false, &quot;opacity&quot;: 0.7, &quot;smoothFactor&quot;: 1.0, &quot;stroke&quot;: true, &quot;weight&quot;: 5}\n",
       "            ).addTo(map_f1b24c1ac658a2d148085d2a881fa84c);\n",
       "        \n",
       "    \n",
       "            poly_line_975479d08439a05defd5ef09105a96ce.bindTooltip(\n",
       "                `&lt;div&gt;\n",
       "                     Vehículo 0\n",
       "                 &lt;/div&gt;`,\n",
       "                {\n",
       "  &quot;sticky&quot;: true,\n",
       "}\n",
       "            );\n",
       "        \n",
       "    \n",
       "            var marker_00eeef2d5c25a691a3ce41e8be1fab2f = L.marker(\n",
       "                [4.743359, -74.153536],\n",
       "                {\n",
       "}\n",
       "            ).addTo(map_f1b24c1ac658a2d148085d2a881fa84c);\n",
       "        \n",
       "    \n",
       "            var icon_c2fd6d318f6f08a65f03563d623cc4bf = L.AwesomeMarkers.icon(\n",
       "                {\n",
       "  &quot;markerColor&quot;: &quot;black&quot;,\n",
       "  &quot;iconColor&quot;: &quot;white&quot;,\n",
       "  &quot;icon&quot;: &quot;home&quot;,\n",
       "  &quot;prefix&quot;: &quot;glyphicon&quot;,\n",
       "  &quot;extraClasses&quot;: &quot;fa-rotate-0&quot;,\n",
       "}\n",
       "            );\n",
       "        \n",
       "    \n",
       "        var popup_6711a8f39f13247e2d2e0059ff3af13c = L.popup({\n",
       "  &quot;maxWidth&quot;: &quot;100%&quot;,\n",
       "});\n",
       "\n",
       "        \n",
       "            \n",
       "                var html_0f6c0dc76b5037a2760b82b5f1a57c1b = $(`&lt;div id=&quot;html_0f6c0dc76b5037a2760b82b5f1a57c1b&quot; style=&quot;width: 100.0%; height: 100.0%;&quot;&gt;Inicio (Depósito)&lt;/div&gt;`)[0];\n",
       "                popup_6711a8f39f13247e2d2e0059ff3af13c.setContent(html_0f6c0dc76b5037a2760b82b5f1a57c1b);\n",
       "            \n",
       "        \n",
       "\n",
       "        marker_00eeef2d5c25a691a3ce41e8be1fab2f.bindPopup(popup_6711a8f39f13247e2d2e0059ff3af13c)\n",
       "        ;\n",
       "\n",
       "        \n",
       "    \n",
       "    \n",
       "                marker_00eeef2d5c25a691a3ce41e8be1fab2f.setIcon(icon_c2fd6d318f6f08a65f03563d623cc4bf);\n",
       "            \n",
       "    \n",
       "            var marker_2ebba1acb08e0876bda587ec3883c8fe = L.marker(\n",
       "                [4.743359, -74.153536],\n",
       "                {\n",
       "}\n",
       "            ).addTo(map_f1b24c1ac658a2d148085d2a881fa84c);\n",
       "        \n",
       "    \n",
       "            var icon_e90b1395f0c94d5181f5431a3ef032e8 = L.AwesomeMarkers.icon(\n",
       "                {\n",
       "  &quot;markerColor&quot;: &quot;blue&quot;,\n",
       "  &quot;iconColor&quot;: &quot;white&quot;,\n",
       "  &quot;icon&quot;: &quot;flag&quot;,\n",
       "  &quot;prefix&quot;: &quot;glyphicon&quot;,\n",
       "  &quot;extraClasses&quot;: &quot;fa-rotate-0&quot;,\n",
       "}\n",
       "            );\n",
       "        \n",
       "    \n",
       "        var popup_c4bc9877a2b1c3d630bb6b08ad1a1079 = L.popup({\n",
       "  &quot;maxWidth&quot;: &quot;100%&quot;,\n",
       "});\n",
       "\n",
       "        \n",
       "            \n",
       "                var html_e6377243593aea15d1bd38a2dfa77b34 = $(`&lt;div id=&quot;html_e6377243593aea15d1bd38a2dfa77b34&quot; style=&quot;width: 100.0%; height: 100.0%;&quot;&gt;Llegada Vehículo 0&lt;/div&gt;`)[0];\n",
       "                popup_c4bc9877a2b1c3d630bb6b08ad1a1079.setContent(html_e6377243593aea15d1bd38a2dfa77b34);\n",
       "            \n",
       "        \n",
       "\n",
       "        marker_2ebba1acb08e0876bda587ec3883c8fe.bindPopup(popup_c4bc9877a2b1c3d630bb6b08ad1a1079)\n",
       "        ;\n",
       "\n",
       "        \n",
       "    \n",
       "    \n",
       "                marker_2ebba1acb08e0876bda587ec3883c8fe.setIcon(icon_e90b1395f0c94d5181f5431a3ef032e8);\n",
       "            \n",
       "    \n",
       "            var poly_line_27c29ddd4c14a51aef44f528b38b78a1 = L.polyline(\n",
       "                [[4.743359, -74.153536], [4.6771016997028205, -74.03241075805882], [4.707007012114083, -74.0624758742746], [4.727691608175209, -74.11027242131048], [4.743359, -74.153536]],\n",
       "                {&quot;bubblingMouseEvents&quot;: true, &quot;color&quot;: &quot;green&quot;, &quot;dashArray&quot;: null, &quot;dashOffset&quot;: null, &quot;fill&quot;: false, &quot;fillColor&quot;: &quot;green&quot;, &quot;fillOpacity&quot;: 0.2, &quot;fillRule&quot;: &quot;evenodd&quot;, &quot;lineCap&quot;: &quot;round&quot;, &quot;lineJoin&quot;: &quot;round&quot;, &quot;noClip&quot;: false, &quot;opacity&quot;: 0.7, &quot;smoothFactor&quot;: 1.0, &quot;stroke&quot;: true, &quot;weight&quot;: 5}\n",
       "            ).addTo(map_f1b24c1ac658a2d148085d2a881fa84c);\n",
       "        \n",
       "    \n",
       "            poly_line_27c29ddd4c14a51aef44f528b38b78a1.bindTooltip(\n",
       "                `&lt;div&gt;\n",
       "                     Vehículo 1\n",
       "                 &lt;/div&gt;`,\n",
       "                {\n",
       "  &quot;sticky&quot;: true,\n",
       "}\n",
       "            );\n",
       "        \n",
       "    \n",
       "            var marker_051bbf0974aa686fe21741e9e6bdf8ef = L.marker(\n",
       "                [4.743359, -74.153536],\n",
       "                {\n",
       "}\n",
       "            ).addTo(map_f1b24c1ac658a2d148085d2a881fa84c);\n",
       "        \n",
       "    \n",
       "            var icon_f41c676321f5d961cf638902bab2d45a = L.AwesomeMarkers.icon(\n",
       "                {\n",
       "  &quot;markerColor&quot;: &quot;black&quot;,\n",
       "  &quot;iconColor&quot;: &quot;white&quot;,\n",
       "  &quot;icon&quot;: &quot;home&quot;,\n",
       "  &quot;prefix&quot;: &quot;glyphicon&quot;,\n",
       "  &quot;extraClasses&quot;: &quot;fa-rotate-0&quot;,\n",
       "}\n",
       "            );\n",
       "        \n",
       "    \n",
       "        var popup_a28ea8cc012d0e16f2a0f9b645839258 = L.popup({\n",
       "  &quot;maxWidth&quot;: &quot;100%&quot;,\n",
       "});\n",
       "\n",
       "        \n",
       "            \n",
       "                var html_592050de9c24f34d7ca910d7b0faf799 = $(`&lt;div id=&quot;html_592050de9c24f34d7ca910d7b0faf799&quot; style=&quot;width: 100.0%; height: 100.0%;&quot;&gt;Inicio (Depósito)&lt;/div&gt;`)[0];\n",
       "                popup_a28ea8cc012d0e16f2a0f9b645839258.setContent(html_592050de9c24f34d7ca910d7b0faf799);\n",
       "            \n",
       "        \n",
       "\n",
       "        marker_051bbf0974aa686fe21741e9e6bdf8ef.bindPopup(popup_a28ea8cc012d0e16f2a0f9b645839258)\n",
       "        ;\n",
       "\n",
       "        \n",
       "    \n",
       "    \n",
       "                marker_051bbf0974aa686fe21741e9e6bdf8ef.setIcon(icon_f41c676321f5d961cf638902bab2d45a);\n",
       "            \n",
       "    \n",
       "            var marker_8339198fbe1806a79483f1e7b4c0fc62 = L.marker(\n",
       "                [4.743359, -74.153536],\n",
       "                {\n",
       "}\n",
       "            ).addTo(map_f1b24c1ac658a2d148085d2a881fa84c);\n",
       "        \n",
       "    \n",
       "            var icon_ffe9c12a8d15cf023e2b957fea42373d = L.AwesomeMarkers.icon(\n",
       "                {\n",
       "  &quot;markerColor&quot;: &quot;green&quot;,\n",
       "  &quot;iconColor&quot;: &quot;white&quot;,\n",
       "  &quot;icon&quot;: &quot;flag&quot;,\n",
       "  &quot;prefix&quot;: &quot;glyphicon&quot;,\n",
       "  &quot;extraClasses&quot;: &quot;fa-rotate-0&quot;,\n",
       "}\n",
       "            );\n",
       "        \n",
       "    \n",
       "        var popup_4e2404aa6f58f656da68f637b6e13fda = L.popup({\n",
       "  &quot;maxWidth&quot;: &quot;100%&quot;,\n",
       "});\n",
       "\n",
       "        \n",
       "            \n",
       "                var html_f2a09e44ca419b25570f02245b13cb45 = $(`&lt;div id=&quot;html_f2a09e44ca419b25570f02245b13cb45&quot; style=&quot;width: 100.0%; height: 100.0%;&quot;&gt;Llegada Vehículo 1&lt;/div&gt;`)[0];\n",
       "                popup_4e2404aa6f58f656da68f637b6e13fda.setContent(html_f2a09e44ca419b25570f02245b13cb45);\n",
       "            \n",
       "        \n",
       "\n",
       "        marker_8339198fbe1806a79483f1e7b4c0fc62.bindPopup(popup_4e2404aa6f58f656da68f637b6e13fda)\n",
       "        ;\n",
       "\n",
       "        \n",
       "    \n",
       "    \n",
       "                marker_8339198fbe1806a79483f1e7b4c0fc62.setIcon(icon_ffe9c12a8d15cf023e2b957fea42373d);\n",
       "            \n",
       "&lt;/script&gt;\n",
       "&lt;/html&gt;\" style=\"position:absolute;width:100%;height:100%;left:0;top:0;border:none !important;\" allowfullscreen webkitallowfullscreen mozallowfullscreen></iframe></div></div>"
      ],
      "text/plain": [
       "<folium.folium.Map at 0x2d715365880>"
      ]
     },
     "execution_count": 10,
     "metadata": {},
     "output_type": "execute_result"
    }
   ],
   "source": [
    "solucion, evol = run_ga_pyeasyga(distancia, demanda, vehiculos, coord, n_generaciones=300, n_poblacion=70, elitismo=2, prob_mutacion=0.3)\n",
    "def graficar_evolucion_costos(mejores_costos):\n",
    "    plt.figure(figsize=(10, 5))\n",
    "    plt.plot(mejores_costos, marker='o', color='green')\n",
    "    plt.xlabel('Generación')\n",
    "    plt.ylabel('Mejor costo')\n",
    "    plt.title('Evolución del costo del mejor individuo')\n",
    "    plt.grid(True)\n",
    "    plt.show()\n",
    "\n",
    "graficar_evolucion_costos(evol)\n",
    "mapa = visualizar_rutas_folium(solucion, coord)\n",
    "mapa"
   ]
  },
  {
   "cell_type": "code",
   "execution_count": 16,
   "id": "e82c4965",
   "metadata": {},
   "outputs": [],
   "source": [
    "def experimento_ga(distance, demand, vehicles, coord, \n",
    "                   param_grid, repeticiones=3):\n",
    "    \n",
    "    resultados = []\n",
    "\n",
    "    # Crear todas las combinaciones posibles de parámetros\n",
    "    keys, values = zip(*param_grid.items())\n",
    "    combinaciones = [dict(zip(keys, v)) for v in itertools.product(*values)]\n",
    "    \n",
    "    for config in tqdm(combinaciones, desc=\"Configuraciones\"):\n",
    "        costos = []\n",
    "        tiempos = []\n",
    "\n",
    "        for r in range(repeticiones):\n",
    "            seed = 42 + r  # Semilla diferente por repetición\n",
    "            random.seed(seed)\n",
    "\n",
    "            start_time = time.process_time()\n",
    "            solucion, historial = run_ga_pyeasyga(\n",
    "                distance=distance,\n",
    "                demand=demand,\n",
    "                vehicles=vehicles,\n",
    "                coord=coord,\n",
    "                n_generaciones=config['n_generaciones'],\n",
    "                n_poblacion=config['n_poblacion'],\n",
    "                prob_mutacion=config['prob_mutacion'],\n",
    "                prob_cruzamiento=config['prob_cruzamiento'],\n",
    "                elitismo=config['elitismo'],\n",
    "                tournament_size=config['tournament_size']\n",
    "            )\n",
    "            end_time = time.process_time()\n",
    "            tiempo_cpu = end_time - start_time\n",
    "            \n",
    "            # Valor de la función objetivo (último valor en historial)\n",
    "            costo_final = historial[-1]\n",
    "            costos.append(costo_final)\n",
    "            tiempos.append(tiempo_cpu)\n",
    "        \n",
    "        resultados.append({\n",
    "            **config,\n",
    "            \"mejor\": np.min(costos),\n",
    "            \"peor\": np.max(costos),\n",
    "            \"promedio\": np.mean(costos),\n",
    "            \"std\": np.std(costos),\n",
    "            \"tiempo_prom\": np.mean(tiempos)\n",
    "        })\n",
    "    \n",
    "    df_resultados = pd.DataFrame(resultados)\n",
    "    return df_resultados\n"
   ]
  },
  {
   "cell_type": "code",
   "execution_count": 23,
   "id": "ae8d21a0",
   "metadata": {},
   "outputs": [
    {
     "name": "stderr",
     "output_type": "stream",
     "text": [
      "Configuraciones:   0%|          | 0/48 [00:00<?, ?it/s]"
     ]
    },
    {
     "name": "stdout",
     "output_type": "stream",
     "text": [
      "Iniciando algoritmo genético mejorado...\n",
      "Todos los nodos fueron asignados correctamente.\n",
      "Mejor costo: 144118474821.87354\n",
      "Iniciando algoritmo genético mejorado...\n",
      "Todos los nodos fueron asignados correctamente.\n",
      "Mejor costo: 140138861666.2891\n",
      "Iniciando algoritmo genético mejorado...\n"
     ]
    },
    {
     "name": "stderr",
     "output_type": "stream",
     "text": [
      "Configuraciones:   2%|▏         | 1/48 [00:02<01:52,  2.40s/it]"
     ]
    },
    {
     "name": "stdout",
     "output_type": "stream",
     "text": [
      "Todos los nodos fueron asignados correctamente.\n",
      "Mejor costo: 151209132093.19592\n",
      "Iniciando algoritmo genético mejorado...\n",
      "Todos los nodos fueron asignados correctamente.\n",
      "Mejor costo: 144118474821.87354\n",
      "Iniciando algoritmo genético mejorado...\n",
      "Todos los nodos fueron asignados correctamente.\n",
      "Mejor costo: 140138861666.2891\n",
      "Iniciando algoritmo genético mejorado...\n"
     ]
    },
    {
     "name": "stderr",
     "output_type": "stream",
     "text": [
      "Configuraciones:   4%|▍         | 2/48 [00:05<01:58,  2.57s/it]"
     ]
    },
    {
     "name": "stdout",
     "output_type": "stream",
     "text": [
      "Todos los nodos fueron asignados correctamente.\n",
      "Mejor costo: 151209132093.19592\n",
      "Iniciando algoritmo genético mejorado...\n",
      "Todos los nodos fueron asignados correctamente.\n",
      "Mejor costo: 142056277024.1234\n",
      "Iniciando algoritmo genético mejorado...\n",
      "Todos los nodos fueron asignados correctamente.\n",
      "Mejor costo: 131581772380.68712\n",
      "Iniciando algoritmo genético mejorado...\n"
     ]
    },
    {
     "name": "stderr",
     "output_type": "stream",
     "text": [
      "Configuraciones:   6%|▋         | 3/48 [00:07<01:50,  2.45s/it]"
     ]
    },
    {
     "name": "stdout",
     "output_type": "stream",
     "text": [
      "Todos los nodos fueron asignados correctamente.\n",
      "Mejor costo: 152286998977.39938\n",
      "Iniciando algoritmo genético mejorado...\n",
      "Todos los nodos fueron asignados correctamente.\n",
      "Mejor costo: 142056277024.1234\n",
      "Iniciando algoritmo genético mejorado...\n",
      "Todos los nodos fueron asignados correctamente.\n",
      "Mejor costo: 131581772380.68712\n",
      "Iniciando algoritmo genético mejorado...\n"
     ]
    },
    {
     "name": "stderr",
     "output_type": "stream",
     "text": [
      "Configuraciones:   8%|▊         | 4/48 [00:09<01:42,  2.33s/it]"
     ]
    },
    {
     "name": "stdout",
     "output_type": "stream",
     "text": [
      "Todos los nodos fueron asignados correctamente.\n",
      "Mejor costo: 152286998977.39938\n",
      "Iniciando algoritmo genético mejorado...\n",
      "Todos los nodos fueron asignados correctamente.\n",
      "Mejor costo: 131709509833.35239\n",
      "Iniciando algoritmo genético mejorado...\n",
      "Todos los nodos fueron asignados correctamente.\n",
      "Mejor costo: 161168336539.06497\n",
      "Iniciando algoritmo genético mejorado...\n"
     ]
    },
    {
     "name": "stderr",
     "output_type": "stream",
     "text": [
      "Configuraciones:  10%|█         | 5/48 [00:11<01:41,  2.35s/it]"
     ]
    },
    {
     "name": "stdout",
     "output_type": "stream",
     "text": [
      "Todos los nodos fueron asignados correctamente.\n",
      "Mejor costo: 123572744912.67413\n",
      "Iniciando algoritmo genético mejorado...\n",
      "Todos los nodos fueron asignados correctamente.\n",
      "Mejor costo: 131709509833.35239\n",
      "Iniciando algoritmo genético mejorado...\n",
      "Todos los nodos fueron asignados correctamente.\n",
      "Mejor costo: 161168336539.06497\n",
      "Iniciando algoritmo genético mejorado...\n"
     ]
    },
    {
     "name": "stderr",
     "output_type": "stream",
     "text": [
      "Configuraciones:  12%|█▎        | 6/48 [00:14<01:39,  2.36s/it]"
     ]
    },
    {
     "name": "stdout",
     "output_type": "stream",
     "text": [
      "Todos los nodos fueron asignados correctamente.\n",
      "Mejor costo: 123572744912.67413\n",
      "Iniciando algoritmo genético mejorado...\n",
      "Todos los nodos fueron asignados correctamente.\n",
      "Mejor costo: 149910655875.71738\n",
      "Iniciando algoritmo genético mejorado...\n",
      "Todos los nodos fueron asignados correctamente.\n",
      "Mejor costo: 158743864801.11298\n",
      "Iniciando algoritmo genético mejorado...\n"
     ]
    },
    {
     "name": "stderr",
     "output_type": "stream",
     "text": [
      "Configuraciones:  15%|█▍        | 7/48 [00:16<01:32,  2.27s/it]"
     ]
    },
    {
     "name": "stdout",
     "output_type": "stream",
     "text": [
      "Todos los nodos fueron asignados correctamente.\n",
      "Mejor costo: 131083616687.85014\n",
      "Iniciando algoritmo genético mejorado...\n",
      "Todos los nodos fueron asignados correctamente.\n",
      "Mejor costo: 149910655875.71738\n",
      "Iniciando algoritmo genético mejorado...\n",
      "Todos los nodos fueron asignados correctamente.\n",
      "Mejor costo: 158743864801.11298\n",
      "Iniciando algoritmo genético mejorado...\n"
     ]
    },
    {
     "name": "stderr",
     "output_type": "stream",
     "text": [
      "Configuraciones:  17%|█▋        | 8/48 [00:18<01:25,  2.14s/it]"
     ]
    },
    {
     "name": "stdout",
     "output_type": "stream",
     "text": [
      "Todos los nodos fueron asignados correctamente.\n",
      "Mejor costo: 131083616687.85014\n",
      "Iniciando algoritmo genético mejorado...\n",
      "Todos los nodos fueron asignados correctamente.\n",
      "Mejor costo: 127831166118.07513\n",
      "Iniciando algoritmo genético mejorado...\n",
      "Todos los nodos fueron asignados correctamente.\n",
      "Mejor costo: 166172856657.5905\n",
      "Iniciando algoritmo genético mejorado...\n"
     ]
    },
    {
     "name": "stderr",
     "output_type": "stream",
     "text": [
      "Configuraciones:  19%|█▉        | 9/48 [00:21<01:34,  2.43s/it]"
     ]
    },
    {
     "name": "stdout",
     "output_type": "stream",
     "text": [
      "Todos los nodos fueron asignados correctamente.\n",
      "Mejor costo: 140260562087.7344\n",
      "Iniciando algoritmo genético mejorado...\n",
      "Todos los nodos fueron asignados correctamente.\n",
      "Mejor costo: 127831166118.07513\n",
      "Iniciando algoritmo genético mejorado...\n",
      "Todos los nodos fueron asignados correctamente.\n",
      "Mejor costo: 166172856657.5905\n",
      "Iniciando algoritmo genético mejorado...\n"
     ]
    },
    {
     "name": "stderr",
     "output_type": "stream",
     "text": [
      "Configuraciones:  21%|██        | 10/48 [00:23<01:35,  2.51s/it]"
     ]
    },
    {
     "name": "stdout",
     "output_type": "stream",
     "text": [
      "Todos los nodos fueron asignados correctamente.\n",
      "Mejor costo: 140260562087.7344\n",
      "Iniciando algoritmo genético mejorado...\n",
      "Todos los nodos fueron asignados correctamente.\n",
      "Mejor costo: 150043116643.99454\n",
      "Iniciando algoritmo genético mejorado...\n",
      "Todos los nodos fueron asignados correctamente.\n",
      "Mejor costo: 129093408728.99014\n",
      "Iniciando algoritmo genético mejorado...\n"
     ]
    },
    {
     "name": "stderr",
     "output_type": "stream",
     "text": [
      "Configuraciones:  23%|██▎       | 11/48 [00:26<01:37,  2.62s/it]"
     ]
    },
    {
     "name": "stdout",
     "output_type": "stream",
     "text": [
      "Todos los nodos fueron asignados correctamente.\n",
      "Mejor costo: 153743693693.14795\n",
      "Iniciando algoritmo genético mejorado...\n",
      "Todos los nodos fueron asignados correctamente.\n",
      "Mejor costo: 150043116643.99454\n",
      "Iniciando algoritmo genético mejorado...\n",
      "Todos los nodos fueron asignados correctamente.\n",
      "Mejor costo: 129093408728.99014\n",
      "Iniciando algoritmo genético mejorado...\n"
     ]
    },
    {
     "name": "stderr",
     "output_type": "stream",
     "text": [
      "Configuraciones:  25%|██▌       | 12/48 [00:29<01:38,  2.74s/it]"
     ]
    },
    {
     "name": "stdout",
     "output_type": "stream",
     "text": [
      "Todos los nodos fueron asignados correctamente.\n",
      "Mejor costo: 153743693693.14795\n",
      "Iniciando algoritmo genético mejorado...\n",
      "Todos los nodos fueron asignados correctamente.\n",
      "Mejor costo: 160419899527.33423\n",
      "Iniciando algoritmo genético mejorado...\n",
      "Todos los nodos fueron asignados correctamente.\n",
      "Mejor costo: 154443374331.18207\n",
      "Iniciando algoritmo genético mejorado...\n"
     ]
    },
    {
     "name": "stderr",
     "output_type": "stream",
     "text": [
      "Configuraciones:  27%|██▋       | 13/48 [00:32<01:39,  2.84s/it]"
     ]
    },
    {
     "name": "stdout",
     "output_type": "stream",
     "text": [
      "Todos los nodos fueron asignados correctamente.\n",
      "Mejor costo: 128275344166.2057\n",
      "Iniciando algoritmo genético mejorado...\n",
      "Todos los nodos fueron asignados correctamente.\n",
      "Mejor costo: 160419899527.33423\n",
      "Iniciando algoritmo genético mejorado...\n",
      "Todos los nodos fueron asignados correctamente.\n",
      "Mejor costo: 154443374331.18207\n",
      "Iniciando algoritmo genético mejorado...\n"
     ]
    },
    {
     "name": "stderr",
     "output_type": "stream",
     "text": [
      "Configuraciones:  29%|██▉       | 14/48 [00:36<01:39,  2.91s/it]"
     ]
    },
    {
     "name": "stdout",
     "output_type": "stream",
     "text": [
      "Todos los nodos fueron asignados correctamente.\n",
      "Mejor costo: 128275344166.2057\n",
      "Iniciando algoritmo genético mejorado...\n",
      "Todos los nodos fueron asignados correctamente.\n",
      "Mejor costo: 144425659093.78452\n",
      "Iniciando algoritmo genético mejorado...\n",
      "Todos los nodos fueron asignados correctamente.\n",
      "Mejor costo: 143914219756.90317\n",
      "Iniciando algoritmo genético mejorado...\n"
     ]
    },
    {
     "name": "stderr",
     "output_type": "stream",
     "text": [
      "Configuraciones:  31%|███▏      | 15/48 [00:39<01:40,  3.05s/it]"
     ]
    },
    {
     "name": "stdout",
     "output_type": "stream",
     "text": [
      "Todos los nodos fueron asignados correctamente.\n",
      "Mejor costo: 152755454153.95352\n",
      "Iniciando algoritmo genético mejorado...\n",
      "Todos los nodos fueron asignados correctamente.\n",
      "Mejor costo: 144425659093.78452\n",
      "Iniciando algoritmo genético mejorado...\n",
      "Todos los nodos fueron asignados correctamente.\n",
      "Mejor costo: 143914219756.90317\n",
      "Iniciando algoritmo genético mejorado...\n"
     ]
    },
    {
     "name": "stderr",
     "output_type": "stream",
     "text": [
      "Configuraciones:  33%|███▎      | 16/48 [00:42<01:39,  3.10s/it]"
     ]
    },
    {
     "name": "stdout",
     "output_type": "stream",
     "text": [
      "Todos los nodos fueron asignados correctamente.\n",
      "Mejor costo: 152755454153.95352\n",
      "Iniciando algoritmo genético mejorado...\n",
      "Todos los nodos fueron asignados correctamente.\n",
      "Mejor costo: 144118474821.87354\n",
      "Iniciando algoritmo genético mejorado...\n",
      "Todos los nodos fueron asignados correctamente.\n",
      "Mejor costo: 133427795910.57611\n",
      "Iniciando algoritmo genético mejorado...\n"
     ]
    },
    {
     "name": "stderr",
     "output_type": "stream",
     "text": [
      "Configuraciones:  35%|███▌      | 17/48 [00:45<01:32,  3.00s/it]"
     ]
    },
    {
     "name": "stdout",
     "output_type": "stream",
     "text": [
      "Todos los nodos fueron asignados correctamente.\n",
      "Mejor costo: 151209132093.19592\n",
      "Iniciando algoritmo genético mejorado...\n",
      "Todos los nodos fueron asignados correctamente.\n",
      "Mejor costo: 144118474821.87354\n",
      "Iniciando algoritmo genético mejorado...\n",
      "Todos los nodos fueron asignados correctamente.\n",
      "Mejor costo: 133427795910.57611\n",
      "Iniciando algoritmo genético mejorado...\n"
     ]
    },
    {
     "name": "stderr",
     "output_type": "stream",
     "text": [
      "Configuraciones:  38%|███▊      | 18/48 [00:48<01:29,  2.99s/it]"
     ]
    },
    {
     "name": "stdout",
     "output_type": "stream",
     "text": [
      "Todos los nodos fueron asignados correctamente.\n",
      "Mejor costo: 151209132093.19592\n",
      "Iniciando algoritmo genético mejorado...\n",
      "Todos los nodos fueron asignados correctamente.\n",
      "Mejor costo: 126319748977.3234\n",
      "Iniciando algoritmo genético mejorado...\n",
      "Todos los nodos fueron asignados correctamente.\n",
      "Mejor costo: 131581772380.68712\n",
      "Iniciando algoritmo genético mejorado...\n"
     ]
    },
    {
     "name": "stderr",
     "output_type": "stream",
     "text": [
      "Configuraciones:  40%|███▉      | 19/48 [00:51<01:24,  2.92s/it]"
     ]
    },
    {
     "name": "stdout",
     "output_type": "stream",
     "text": [
      "Todos los nodos fueron asignados correctamente.\n",
      "Mejor costo: 152286998977.39938\n",
      "Iniciando algoritmo genético mejorado...\n",
      "Todos los nodos fueron asignados correctamente.\n",
      "Mejor costo: 126319748977.3234\n",
      "Iniciando algoritmo genético mejorado...\n",
      "Todos los nodos fueron asignados correctamente.\n",
      "Mejor costo: 131581772380.68712\n",
      "Iniciando algoritmo genético mejorado...\n"
     ]
    },
    {
     "name": "stderr",
     "output_type": "stream",
     "text": [
      "Configuraciones:  42%|████▏     | 20/48 [00:53<01:19,  2.86s/it]"
     ]
    },
    {
     "name": "stdout",
     "output_type": "stream",
     "text": [
      "Todos los nodos fueron asignados correctamente.\n",
      "Mejor costo: 152286998977.39938\n",
      "Iniciando algoritmo genético mejorado...\n",
      "Todos los nodos fueron asignados correctamente.\n",
      "Mejor costo: 131709509833.35239\n",
      "Iniciando algoritmo genético mejorado...\n",
      "Todos los nodos fueron asignados correctamente.\n",
      "Mejor costo: 161168336539.06497\n",
      "Iniciando algoritmo genético mejorado...\n"
     ]
    },
    {
     "name": "stderr",
     "output_type": "stream",
     "text": [
      "Configuraciones:  44%|████▍     | 21/48 [00:56<01:17,  2.86s/it]"
     ]
    },
    {
     "name": "stdout",
     "output_type": "stream",
     "text": [
      "Todos los nodos fueron asignados correctamente.\n",
      "Mejor costo: 123572744912.67413\n",
      "Iniciando algoritmo genético mejorado...\n",
      "Todos los nodos fueron asignados correctamente.\n",
      "Mejor costo: 131709509833.35239\n",
      "Iniciando algoritmo genético mejorado...\n",
      "Todos los nodos fueron asignados correctamente.\n",
      "Mejor costo: 161168336539.06497\n",
      "Iniciando algoritmo genético mejorado...\n"
     ]
    },
    {
     "name": "stderr",
     "output_type": "stream",
     "text": [
      "Configuraciones:  46%|████▌     | 22/48 [00:59<01:15,  2.92s/it]"
     ]
    },
    {
     "name": "stdout",
     "output_type": "stream",
     "text": [
      "Todos los nodos fueron asignados correctamente.\n",
      "Mejor costo: 123572744912.67413\n",
      "Iniciando algoritmo genético mejorado...\n",
      "Todos los nodos fueron asignados correctamente.\n",
      "Mejor costo: 148602129358.78238\n",
      "Iniciando algoritmo genético mejorado...\n",
      "Todos los nodos fueron asignados correctamente.\n",
      "Mejor costo: 158743864801.11298\n",
      "Iniciando algoritmo genético mejorado...\n"
     ]
    },
    {
     "name": "stderr",
     "output_type": "stream",
     "text": [
      "Configuraciones:  48%|████▊     | 23/48 [01:02<01:13,  2.95s/it]"
     ]
    },
    {
     "name": "stdout",
     "output_type": "stream",
     "text": [
      "Todos los nodos fueron asignados correctamente.\n",
      "Mejor costo: 131083616687.85014\n",
      "Iniciando algoritmo genético mejorado...\n",
      "Todos los nodos fueron asignados correctamente.\n",
      "Mejor costo: 148602129358.78238\n",
      "Iniciando algoritmo genético mejorado...\n",
      "Todos los nodos fueron asignados correctamente.\n",
      "Mejor costo: 158743864801.11298\n",
      "Iniciando algoritmo genético mejorado...\n"
     ]
    },
    {
     "name": "stderr",
     "output_type": "stream",
     "text": [
      "Configuraciones:  50%|█████     | 24/48 [01:05<01:12,  3.01s/it]"
     ]
    },
    {
     "name": "stdout",
     "output_type": "stream",
     "text": [
      "Todos los nodos fueron asignados correctamente.\n",
      "Mejor costo: 131083616687.85014\n",
      "Iniciando algoritmo genético mejorado...\n",
      "Todos los nodos fueron asignados correctamente.\n",
      "Mejor costo: 127831166118.07513\n",
      "Iniciando algoritmo genético mejorado...\n",
      "Todos los nodos fueron asignados correctamente.\n",
      "Mejor costo: 166172856657.5905\n",
      "Iniciando algoritmo genético mejorado...\n"
     ]
    },
    {
     "name": "stderr",
     "output_type": "stream",
     "text": [
      "Configuraciones:  52%|█████▏    | 25/48 [01:10<01:17,  3.37s/it]"
     ]
    },
    {
     "name": "stdout",
     "output_type": "stream",
     "text": [
      "Todos los nodos fueron asignados correctamente.\n",
      "Mejor costo: 133824483104.0924\n",
      "Iniciando algoritmo genético mejorado...\n",
      "Todos los nodos fueron asignados correctamente.\n",
      "Mejor costo: 127831166118.07513\n",
      "Iniciando algoritmo genético mejorado...\n",
      "Todos los nodos fueron asignados correctamente.\n",
      "Mejor costo: 166172856657.5905\n",
      "Iniciando algoritmo genético mejorado...\n"
     ]
    },
    {
     "name": "stderr",
     "output_type": "stream",
     "text": [
      "Configuraciones:  54%|█████▍    | 26/48 [01:14<01:17,  3.54s/it]"
     ]
    },
    {
     "name": "stdout",
     "output_type": "stream",
     "text": [
      "Todos los nodos fueron asignados correctamente.\n",
      "Mejor costo: 133824483104.0924\n",
      "Iniciando algoritmo genético mejorado...\n",
      "Todos los nodos fueron asignados correctamente.\n",
      "Mejor costo: 150043116643.99454\n",
      "Iniciando algoritmo genético mejorado...\n",
      "Todos los nodos fueron asignados correctamente.\n",
      "Mejor costo: 129093408728.99014\n",
      "Iniciando algoritmo genético mejorado...\n"
     ]
    },
    {
     "name": "stderr",
     "output_type": "stream",
     "text": [
      "Configuraciones:  56%|█████▋    | 27/48 [01:18<01:20,  3.86s/it]"
     ]
    },
    {
     "name": "stdout",
     "output_type": "stream",
     "text": [
      "Todos los nodos fueron asignados correctamente.\n",
      "Mejor costo: 153743693693.14795\n",
      "Iniciando algoritmo genético mejorado...\n",
      "Todos los nodos fueron asignados correctamente.\n",
      "Mejor costo: 150043116643.99454\n",
      "Iniciando algoritmo genético mejorado...\n",
      "Todos los nodos fueron asignados correctamente.\n",
      "Mejor costo: 129093408728.99014\n",
      "Iniciando algoritmo genético mejorado...\n"
     ]
    },
    {
     "name": "stderr",
     "output_type": "stream",
     "text": [
      "Configuraciones:  58%|█████▊    | 28/48 [01:23<01:20,  4.04s/it]"
     ]
    },
    {
     "name": "stdout",
     "output_type": "stream",
     "text": [
      "Todos los nodos fueron asignados correctamente.\n",
      "Mejor costo: 153743693693.14795\n",
      "Iniciando algoritmo genético mejorado...\n",
      "Todos los nodos fueron asignados correctamente.\n",
      "Mejor costo: 157736439150.04422\n",
      "Iniciando algoritmo genético mejorado...\n",
      "Todos los nodos fueron asignados correctamente.\n",
      "Mejor costo: 154443374331.18207\n",
      "Iniciando algoritmo genético mejorado...\n"
     ]
    },
    {
     "name": "stderr",
     "output_type": "stream",
     "text": [
      "Configuraciones:  60%|██████    | 29/48 [01:27<01:18,  4.13s/it]"
     ]
    },
    {
     "name": "stdout",
     "output_type": "stream",
     "text": [
      "Todos los nodos fueron asignados correctamente.\n",
      "Mejor costo: 128275344166.2057\n",
      "Iniciando algoritmo genético mejorado...\n",
      "Todos los nodos fueron asignados correctamente.\n",
      "Mejor costo: 157736439150.04422\n",
      "Iniciando algoritmo genético mejorado...\n",
      "Todos los nodos fueron asignados correctamente.\n",
      "Mejor costo: 154443374331.18207\n",
      "Iniciando algoritmo genético mejorado...\n"
     ]
    },
    {
     "name": "stderr",
     "output_type": "stream",
     "text": [
      "Configuraciones:  62%|██████▎   | 30/48 [01:31<01:15,  4.19s/it]"
     ]
    },
    {
     "name": "stdout",
     "output_type": "stream",
     "text": [
      "Todos los nodos fueron asignados correctamente.\n",
      "Mejor costo: 128275344166.2057\n",
      "Iniciando algoritmo genético mejorado...\n",
      "Todos los nodos fueron asignados correctamente.\n",
      "Mejor costo: 144425659093.78452\n",
      "Iniciando algoritmo genético mejorado...\n",
      "Todos los nodos fueron asignados correctamente.\n",
      "Mejor costo: 143914219756.90317\n",
      "Iniciando algoritmo genético mejorado...\n"
     ]
    },
    {
     "name": "stderr",
     "output_type": "stream",
     "text": [
      "Configuraciones:  65%|██████▍   | 31/48 [01:36<01:14,  4.37s/it]"
     ]
    },
    {
     "name": "stdout",
     "output_type": "stream",
     "text": [
      "Todos los nodos fueron asignados correctamente.\n",
      "Mejor costo: 152755454153.95352\n",
      "Iniciando algoritmo genético mejorado...\n",
      "Todos los nodos fueron asignados correctamente.\n",
      "Mejor costo: 144425659093.78452\n",
      "Iniciando algoritmo genético mejorado...\n",
      "Todos los nodos fueron asignados correctamente.\n",
      "Mejor costo: 143914219756.90317\n",
      "Iniciando algoritmo genético mejorado...\n"
     ]
    },
    {
     "name": "stderr",
     "output_type": "stream",
     "text": [
      "Configuraciones:  67%|██████▋   | 32/48 [01:41<01:11,  4.47s/it]"
     ]
    },
    {
     "name": "stdout",
     "output_type": "stream",
     "text": [
      "Todos los nodos fueron asignados correctamente.\n",
      "Mejor costo: 152755454153.95352\n",
      "Iniciando algoritmo genético mejorado...\n",
      "Todos los nodos fueron asignados correctamente.\n",
      "Mejor costo: 144118474821.87354\n",
      "Iniciando algoritmo genético mejorado...\n",
      "Todos los nodos fueron asignados correctamente.\n",
      "Mejor costo: 133427795910.57611\n",
      "Iniciando algoritmo genético mejorado...\n"
     ]
    },
    {
     "name": "stderr",
     "output_type": "stream",
     "text": [
      "Configuraciones:  69%|██████▉   | 33/48 [01:44<01:02,  4.18s/it]"
     ]
    },
    {
     "name": "stdout",
     "output_type": "stream",
     "text": [
      "Todos los nodos fueron asignados correctamente.\n",
      "Mejor costo: 151209132093.19592\n",
      "Iniciando algoritmo genético mejorado...\n",
      "Todos los nodos fueron asignados correctamente.\n",
      "Mejor costo: 144118474821.87354\n",
      "Iniciando algoritmo genético mejorado...\n",
      "Todos los nodos fueron asignados correctamente.\n",
      "Mejor costo: 133427795910.57611\n",
      "Iniciando algoritmo genético mejorado...\n"
     ]
    },
    {
     "name": "stderr",
     "output_type": "stream",
     "text": [
      "Configuraciones:  71%|███████   | 34/48 [01:48<00:56,  4.07s/it]"
     ]
    },
    {
     "name": "stdout",
     "output_type": "stream",
     "text": [
      "Todos los nodos fueron asignados correctamente.\n",
      "Mejor costo: 151209132093.19592\n",
      "Iniciando algoritmo genético mejorado...\n",
      "Todos los nodos fueron asignados correctamente.\n",
      "Mejor costo: 126319748977.3234\n",
      "Iniciando algoritmo genético mejorado...\n",
      "Todos los nodos fueron asignados correctamente.\n",
      "Mejor costo: 131581772380.68712\n",
      "Iniciando algoritmo genético mejorado...\n"
     ]
    },
    {
     "name": "stderr",
     "output_type": "stream",
     "text": [
      "Configuraciones:  73%|███████▎  | 35/48 [01:52<00:52,  4.02s/it]"
     ]
    },
    {
     "name": "stdout",
     "output_type": "stream",
     "text": [
      "Todos los nodos fueron asignados correctamente.\n",
      "Mejor costo: 152286998977.39938\n",
      "Iniciando algoritmo genético mejorado...\n",
      "Todos los nodos fueron asignados correctamente.\n",
      "Mejor costo: 126319748977.3234\n",
      "Iniciando algoritmo genético mejorado...\n",
      "Todos los nodos fueron asignados correctamente.\n",
      "Mejor costo: 131581772380.68712\n",
      "Iniciando algoritmo genético mejorado...\n"
     ]
    },
    {
     "name": "stderr",
     "output_type": "stream",
     "text": [
      "Configuraciones:  75%|███████▌  | 36/48 [01:56<00:48,  4.07s/it]"
     ]
    },
    {
     "name": "stdout",
     "output_type": "stream",
     "text": [
      "Todos los nodos fueron asignados correctamente.\n",
      "Mejor costo: 152286998977.39938\n",
      "Iniciando algoritmo genético mejorado...\n",
      "Todos los nodos fueron asignados correctamente.\n",
      "Mejor costo: 131709509833.35239\n",
      "Iniciando algoritmo genético mejorado...\n",
      "Todos los nodos fueron asignados correctamente.\n",
      "Mejor costo: 161168336539.06497\n",
      "Iniciando algoritmo genético mejorado...\n"
     ]
    },
    {
     "name": "stderr",
     "output_type": "stream",
     "text": [
      "Configuraciones:  77%|███████▋  | 37/48 [02:00<00:43,  3.92s/it]"
     ]
    },
    {
     "name": "stdout",
     "output_type": "stream",
     "text": [
      "Todos los nodos fueron asignados correctamente.\n",
      "Mejor costo: 123572744912.67413\n",
      "Iniciando algoritmo genético mejorado...\n",
      "Todos los nodos fueron asignados correctamente.\n",
      "Mejor costo: 131709509833.35239\n",
      "Iniciando algoritmo genético mejorado...\n",
      "Todos los nodos fueron asignados correctamente.\n",
      "Mejor costo: 161168336539.06497\n",
      "Iniciando algoritmo genético mejorado...\n"
     ]
    },
    {
     "name": "stderr",
     "output_type": "stream",
     "text": [
      "Configuraciones:  79%|███████▉  | 38/48 [02:04<00:39,  3.94s/it]"
     ]
    },
    {
     "name": "stdout",
     "output_type": "stream",
     "text": [
      "Todos los nodos fueron asignados correctamente.\n",
      "Mejor costo: 123572744912.67413\n",
      "Iniciando algoritmo genético mejorado...\n",
      "Todos los nodos fueron asignados correctamente.\n",
      "Mejor costo: 142350783530.47238\n",
      "Iniciando algoritmo genético mejorado...\n",
      "Todos los nodos fueron asignados correctamente.\n",
      "Mejor costo: 158743864801.11298\n",
      "Iniciando algoritmo genético mejorado...\n"
     ]
    },
    {
     "name": "stderr",
     "output_type": "stream",
     "text": [
      "Configuraciones:  81%|████████▏ | 39/48 [02:08<00:35,  3.93s/it]"
     ]
    },
    {
     "name": "stdout",
     "output_type": "stream",
     "text": [
      "Todos los nodos fueron asignados correctamente.\n",
      "Mejor costo: 131083616687.85014\n",
      "Iniciando algoritmo genético mejorado...\n",
      "Todos los nodos fueron asignados correctamente.\n",
      "Mejor costo: 142350783530.47238\n",
      "Iniciando algoritmo genético mejorado...\n",
      "Todos los nodos fueron asignados correctamente.\n",
      "Mejor costo: 158743864801.11298\n",
      "Iniciando algoritmo genético mejorado...\n"
     ]
    },
    {
     "name": "stderr",
     "output_type": "stream",
     "text": [
      "Configuraciones:  83%|████████▎ | 40/48 [02:12<00:31,  3.99s/it]"
     ]
    },
    {
     "name": "stdout",
     "output_type": "stream",
     "text": [
      "Todos los nodos fueron asignados correctamente.\n",
      "Mejor costo: 131083616687.85014\n",
      "Iniciando algoritmo genético mejorado...\n",
      "Todos los nodos fueron asignados correctamente.\n",
      "Mejor costo: 127831166118.07513\n",
      "Iniciando algoritmo genético mejorado...\n",
      "Todos los nodos fueron asignados correctamente.\n",
      "Mejor costo: 166172856657.5905\n",
      "Iniciando algoritmo genético mejorado...\n"
     ]
    },
    {
     "name": "stderr",
     "output_type": "stream",
     "text": [
      "Configuraciones:  85%|████████▌ | 41/48 [02:16<00:29,  4.16s/it]"
     ]
    },
    {
     "name": "stdout",
     "output_type": "stream",
     "text": [
      "Todos los nodos fueron asignados correctamente.\n",
      "Mejor costo: 133824483104.0924\n",
      "Iniciando algoritmo genético mejorado...\n",
      "Todos los nodos fueron asignados correctamente.\n",
      "Mejor costo: 127831166118.07513\n",
      "Iniciando algoritmo genético mejorado...\n",
      "Todos los nodos fueron asignados correctamente.\n",
      "Mejor costo: 166172856657.5905\n",
      "Iniciando algoritmo genético mejorado...\n"
     ]
    },
    {
     "name": "stderr",
     "output_type": "stream",
     "text": [
      "Configuraciones:  88%|████████▊ | 42/48 [02:21<00:25,  4.25s/it]"
     ]
    },
    {
     "name": "stdout",
     "output_type": "stream",
     "text": [
      "Todos los nodos fueron asignados correctamente.\n",
      "Mejor costo: 133824483104.0924\n",
      "Iniciando algoritmo genético mejorado...\n",
      "Todos los nodos fueron asignados correctamente.\n",
      "Mejor costo: 150043116643.99454\n",
      "Iniciando algoritmo genético mejorado...\n",
      "Todos los nodos fueron asignados correctamente.\n",
      "Mejor costo: 129093408728.99014\n",
      "Iniciando algoritmo genético mejorado...\n"
     ]
    },
    {
     "name": "stderr",
     "output_type": "stream",
     "text": [
      "Configuraciones:  90%|████████▉ | 43/48 [02:26<00:22,  4.47s/it]"
     ]
    },
    {
     "name": "stdout",
     "output_type": "stream",
     "text": [
      "Todos los nodos fueron asignados correctamente.\n",
      "Mejor costo: 153743693693.14795\n",
      "Iniciando algoritmo genético mejorado...\n",
      "Todos los nodos fueron asignados correctamente.\n",
      "Mejor costo: 150043116643.99454\n",
      "Iniciando algoritmo genético mejorado...\n",
      "Todos los nodos fueron asignados correctamente.\n",
      "Mejor costo: 129093408728.99014\n",
      "Iniciando algoritmo genético mejorado...\n"
     ]
    },
    {
     "name": "stderr",
     "output_type": "stream",
     "text": [
      "Configuraciones:  92%|█████████▏| 44/48 [02:31<00:19,  4.79s/it]"
     ]
    },
    {
     "name": "stdout",
     "output_type": "stream",
     "text": [
      "Todos los nodos fueron asignados correctamente.\n",
      "Mejor costo: 153743693693.14795\n",
      "Iniciando algoritmo genético mejorado...\n",
      "Todos los nodos fueron asignados correctamente.\n",
      "Mejor costo: 157736439150.04422\n",
      "Iniciando algoritmo genético mejorado...\n",
      "Todos los nodos fueron asignados correctamente.\n",
      "Mejor costo: 153148396040.03122\n",
      "Iniciando algoritmo genético mejorado...\n"
     ]
    },
    {
     "name": "stderr",
     "output_type": "stream",
     "text": [
      "Configuraciones:  94%|█████████▍| 45/48 [02:37<00:14,  4.92s/it]"
     ]
    },
    {
     "name": "stdout",
     "output_type": "stream",
     "text": [
      "Todos los nodos fueron asignados correctamente.\n",
      "Mejor costo: 128275344166.2057\n",
      "Iniciando algoritmo genético mejorado...\n",
      "Todos los nodos fueron asignados correctamente.\n",
      "Mejor costo: 157736439150.04422\n",
      "Iniciando algoritmo genético mejorado...\n",
      "Todos los nodos fueron asignados correctamente.\n",
      "Mejor costo: 153148396040.03122\n",
      "Iniciando algoritmo genético mejorado...\n"
     ]
    },
    {
     "name": "stderr",
     "output_type": "stream",
     "text": [
      "Configuraciones:  96%|█████████▌| 46/48 [02:42<00:10,  5.08s/it]"
     ]
    },
    {
     "name": "stdout",
     "output_type": "stream",
     "text": [
      "Todos los nodos fueron asignados correctamente.\n",
      "Mejor costo: 128275344166.2057\n",
      "Iniciando algoritmo genético mejorado...\n",
      "Todos los nodos fueron asignados correctamente.\n",
      "Mejor costo: 116614516970.8644\n",
      "Iniciando algoritmo genético mejorado...\n",
      "Todos los nodos fueron asignados correctamente.\n",
      "Mejor costo: 143914219756.90317\n",
      "Iniciando algoritmo genético mejorado...\n"
     ]
    },
    {
     "name": "stderr",
     "output_type": "stream",
     "text": [
      "Configuraciones:  98%|█████████▊| 47/48 [02:48<00:05,  5.27s/it]"
     ]
    },
    {
     "name": "stdout",
     "output_type": "stream",
     "text": [
      "Todos los nodos fueron asignados correctamente.\n",
      "Mejor costo: 152755454153.95352\n",
      "Iniciando algoritmo genético mejorado...\n",
      "Todos los nodos fueron asignados correctamente.\n",
      "Mejor costo: 116614516970.8644\n",
      "Iniciando algoritmo genético mejorado...\n",
      "Todos los nodos fueron asignados correctamente.\n",
      "Mejor costo: 143914219756.90317\n",
      "Iniciando algoritmo genético mejorado...\n"
     ]
    },
    {
     "name": "stderr",
     "output_type": "stream",
     "text": [
      "Configuraciones: 100%|██████████| 48/48 [02:53<00:00,  3.62s/it]"
     ]
    },
    {
     "name": "stdout",
     "output_type": "stream",
     "text": [
      "Todos los nodos fueron asignados correctamente.\n",
      "Mejor costo: 152755454153.95352\n"
     ]
    },
    {
     "name": "stderr",
     "output_type": "stream",
     "text": [
      "\n"
     ]
    },
    {
     "data": {
      "text/html": [
       "<div>\n",
       "<style scoped>\n",
       "    .dataframe tbody tr th:only-of-type {\n",
       "        vertical-align: middle;\n",
       "    }\n",
       "\n",
       "    .dataframe tbody tr th {\n",
       "        vertical-align: top;\n",
       "    }\n",
       "\n",
       "    .dataframe thead th {\n",
       "        text-align: right;\n",
       "    }\n",
       "</style>\n",
       "<table border=\"1\" class=\"dataframe\">\n",
       "  <thead>\n",
       "    <tr style=\"text-align: right;\">\n",
       "      <th></th>\n",
       "      <th>n_generaciones</th>\n",
       "      <th>n_poblacion</th>\n",
       "      <th>prob_mutacion</th>\n",
       "      <th>prob_cruzamiento</th>\n",
       "      <th>elitismo</th>\n",
       "      <th>tournament_size</th>\n",
       "      <th>mejor</th>\n",
       "      <th>peor</th>\n",
       "      <th>promedio</th>\n",
       "      <th>std</th>\n",
       "      <th>tiempo_prom</th>\n",
       "    </tr>\n",
       "  </thead>\n",
       "  <tbody>\n",
       "    <tr>\n",
       "      <th>18</th>\n",
       "      <td>300</td>\n",
       "      <td>50</td>\n",
       "      <td>0.1</td>\n",
       "      <td>0.8</td>\n",
       "      <td>True</td>\n",
       "      <td>3</td>\n",
       "      <td>1.263197e+11</td>\n",
       "      <td>1.522870e+11</td>\n",
       "      <td>1.367295e+11</td>\n",
       "      <td>1.120859e+10</td>\n",
       "      <td>0.885417</td>\n",
       "    </tr>\n",
       "    <tr>\n",
       "      <th>19</th>\n",
       "      <td>300</td>\n",
       "      <td>50</td>\n",
       "      <td>0.1</td>\n",
       "      <td>0.8</td>\n",
       "      <td>True</td>\n",
       "      <td>5</td>\n",
       "      <td>1.263197e+11</td>\n",
       "      <td>1.522870e+11</td>\n",
       "      <td>1.367295e+11</td>\n",
       "      <td>1.120859e+10</td>\n",
       "      <td>0.838542</td>\n",
       "    </tr>\n",
       "    <tr>\n",
       "      <th>34</th>\n",
       "      <td>400</td>\n",
       "      <td>50</td>\n",
       "      <td>0.1</td>\n",
       "      <td>0.8</td>\n",
       "      <td>True</td>\n",
       "      <td>3</td>\n",
       "      <td>1.263197e+11</td>\n",
       "      <td>1.522870e+11</td>\n",
       "      <td>1.367295e+11</td>\n",
       "      <td>1.120859e+10</td>\n",
       "      <td>1.234375</td>\n",
       "    </tr>\n",
       "    <tr>\n",
       "      <th>35</th>\n",
       "      <td>400</td>\n",
       "      <td>50</td>\n",
       "      <td>0.1</td>\n",
       "      <td>0.8</td>\n",
       "      <td>True</td>\n",
       "      <td>5</td>\n",
       "      <td>1.263197e+11</td>\n",
       "      <td>1.522870e+11</td>\n",
       "      <td>1.367295e+11</td>\n",
       "      <td>1.120859e+10</td>\n",
       "      <td>1.333333</td>\n",
       "    </tr>\n",
       "    <tr>\n",
       "      <th>46</th>\n",
       "      <td>400</td>\n",
       "      <td>70</td>\n",
       "      <td>0.3</td>\n",
       "      <td>0.8</td>\n",
       "      <td>True</td>\n",
       "      <td>3</td>\n",
       "      <td>1.166145e+11</td>\n",
       "      <td>1.527555e+11</td>\n",
       "      <td>1.377614e+11</td>\n",
       "      <td>1.538256e+10</td>\n",
       "      <td>1.843750</td>\n",
       "    </tr>\n",
       "  </tbody>\n",
       "</table>\n",
       "</div>"
      ],
      "text/plain": [
       "    n_generaciones  n_poblacion  prob_mutacion  prob_cruzamiento  elitismo  \\\n",
       "18             300           50            0.1               0.8      True   \n",
       "19             300           50            0.1               0.8      True   \n",
       "34             400           50            0.1               0.8      True   \n",
       "35             400           50            0.1               0.8      True   \n",
       "46             400           70            0.3               0.8      True   \n",
       "\n",
       "    tournament_size         mejor          peor      promedio           std  \\\n",
       "18                3  1.263197e+11  1.522870e+11  1.367295e+11  1.120859e+10   \n",
       "19                5  1.263197e+11  1.522870e+11  1.367295e+11  1.120859e+10   \n",
       "34                3  1.263197e+11  1.522870e+11  1.367295e+11  1.120859e+10   \n",
       "35                5  1.263197e+11  1.522870e+11  1.367295e+11  1.120859e+10   \n",
       "46                3  1.166145e+11  1.527555e+11  1.377614e+11  1.538256e+10   \n",
       "\n",
       "    tiempo_prom  \n",
       "18     0.885417  \n",
       "19     0.838542  \n",
       "34     1.234375  \n",
       "35     1.333333  \n",
       "46     1.843750  "
      ]
     },
     "execution_count": 23,
     "metadata": {},
     "output_type": "execute_result"
    }
   ],
   "source": [
    "param_grid = {\n",
    "    \"n_generaciones\": [200,300,400],\n",
    "    \"n_poblacion\": [50,70],\n",
    "    \"prob_mutacion\": [0.1,0.3],\n",
    "    \"prob_cruzamiento\": [0.6,0.8],\n",
    "    \"elitismo\": [True],\n",
    "    \"tournament_size\": [3,5]\n",
    "}\n",
    "\n",
    "# Ejecutar el experimento\n",
    "df_resultados = experimento_ga(distancia, demanda, vehiculos, coord, param_grid, repeticiones=3)\n",
    "\n",
    "# Mostrar resultados ordenados por mejor promedio\n",
    "df_resultados.sort_values(\"promedio\").head()"
   ]
  },
  {
   "cell_type": "markdown",
   "id": "5f75ffb9",
   "metadata": {},
   "source": [
    "Las gráficas fueron realizadas con ayuda de la IA generativa Claude en su modelo Sonnet 4 bajo el prompt: quiero una gráfica que me permita ver \n",
    "registrar el tiempo de CPU y compararlo con la  valor de la función objetivo, \n",
    "mejor, peor, media, desviación estándar"
   ]
  },
  {
   "cell_type": "code",
   "execution_count": 21,
   "id": "9541795f",
   "metadata": {},
   "outputs": [],
   "source": [
    "def grafico_tiempo_cpu_parametros(df_resultados):\n",
    "    \"\"\"\n",
    "    Crea una gráfica que muestra la relación entre tiempo de CPU y parámetros del GA\n",
    "    \"\"\"\n",
    "    \n",
    "    fig, ((ax1, ax2), (ax3, ax4)) = plt.subplots(2, 2, figsize=(16, 12))\n",
    "    fig.suptitle('Análisis de Tiempo de CPU vs Parámetros del Algoritmo Genético', \n",
    "                 fontsize=16, fontweight='bold', y=0.95)\n",
    "    \n",
    "    # Colores consistentes para cada configuración\n",
    "    colors = plt.cm.Set3(np.linspace(0, 1, len(df_resultados)))\n",
    "    \n",
    "    # 1. Tiempo CPU vs Número de Generaciones\n",
    "    ax1.scatter(df_resultados['n_generaciones'], df_resultados['tiempo_prom'], \n",
    "               s=100, c=colors, alpha=0.7, edgecolors='black', linewidth=0.5)\n",
    "    \n",
    "    # Línea de tendencia\n",
    "    z = np.polyfit(df_resultados['n_generaciones'], df_resultados['tiempo_prom'], 1)\n",
    "    p = np.poly1d(z)\n",
    "    x_trend = np.linspace(df_resultados['n_generaciones'].min(), \n",
    "                         df_resultados['n_generaciones'].max(), 100)\n",
    "    ax1.plot(x_trend, p(x_trend), \"--\", color='red', alpha=0.8, linewidth=2)\n",
    "    \n",
    "    ax1.set_xlabel('Número de Generaciones', fontsize=12)\n",
    "    ax1.set_ylabel('Tiempo CPU Promedio (s)', fontsize=12)\n",
    "    ax1.set_title('Tiempo vs Generaciones', fontsize=14, fontweight='bold')\n",
    "    ax1.grid(True, alpha=0.3)\n",
    "    \n",
    "    # Correlación\n",
    "    corr_gen = df_resultados['n_generaciones'].corr(df_resultados['tiempo_prom'])\n",
    "    ax1.text(0.05, 0.95, f'Correlación: {corr_gen:.3f}', \n",
    "             transform=ax1.transAxes, bbox=dict(boxstyle=\"round\", facecolor='wheat', alpha=0.8))\n",
    "    \n",
    "    # 2. Tiempo CPU vs Tamaño de Población\n",
    "    ax2.scatter(df_resultados['n_poblacion'], df_resultados['tiempo_prom'], \n",
    "               s=100, c=colors, alpha=0.7, edgecolors='black', linewidth=0.5)\n",
    "    \n",
    "    # Línea de tendencia\n",
    "    z = np.polyfit(df_resultados['n_poblacion'], df_resultados['tiempo_prom'], 1)\n",
    "    p = np.poly1d(z)\n",
    "    x_trend = np.linspace(df_resultados['n_poblacion'].min(), \n",
    "                         df_resultados['n_poblacion'].max(), 100)\n",
    "    ax2.plot(x_trend, p(x_trend), \"--\", color='red', alpha=0.8, linewidth=2)\n",
    "    \n",
    "    ax2.set_xlabel('Tamaño de Población', fontsize=12)\n",
    "    ax2.set_ylabel('Tiempo CPU Promedio (s)', fontsize=12)\n",
    "    ax2.set_title('Tiempo vs Tamaño Población', fontsize=14, fontweight='bold')\n",
    "    ax2.grid(True, alpha=0.3)\n",
    "    \n",
    "    # Correlación\n",
    "    corr_pob = df_resultados['n_poblacion'].corr(df_resultados['tiempo_prom'])\n",
    "    ax2.text(0.05, 0.95, f'Correlación: {corr_pob:.3f}', \n",
    "             transform=ax2.transAxes, bbox=dict(boxstyle=\"round\", facecolor='wheat', alpha=0.8))\n",
    "    \n",
    "    # 3. Heatmap de Tiempo por combinación de parámetros principales\n",
    "    # Crear tabla pivot para el heatmap\n",
    "    pivot_data = df_resultados.pivot_table(\n",
    "        values='tiempo_prom', \n",
    "        index='n_generaciones', \n",
    "        columns='n_poblacion', \n",
    "        aggfunc='mean'\n",
    "    )\n",
    "    \n",
    "    im = ax3.imshow(pivot_data.values, cmap='YlOrRd', aspect='auto')\n",
    "    ax3.set_xticks(range(len(pivot_data.columns)))\n",
    "    ax3.set_yticks(range(len(pivot_data.index)))\n",
    "    ax3.set_xticklabels(pivot_data.columns)\n",
    "    ax3.set_yticklabels(pivot_data.index)\n",
    "    ax3.set_xlabel('Tamaño de Población', fontsize=12)\n",
    "    ax3.set_ylabel('Número de Generaciones', fontsize=12)\n",
    "    ax3.set_title('Mapa de Calor: Tiempo CPU', fontsize=14, fontweight='bold')\n",
    "    \n",
    "    # Añadir valores en el heatmap\n",
    "    for i in range(len(pivot_data.index)):\n",
    "        for j in range(len(pivot_data.columns)):\n",
    "            if not pd.isna(pivot_data.iloc[i, j]):\n",
    "                text = ax3.text(j, i, f'{pivot_data.iloc[i, j]:.2f}', \n",
    "                               ha=\"center\", va=\"center\", color=\"black\", fontweight='bold')\n",
    "    \n",
    "    # Colorbar\n",
    "    cbar = plt.colorbar(im, ax=ax3, shrink=0.8)\n",
    "    cbar.set_label('Tiempo CPU (s)', rotation=270, labelpad=15)\n",
    "    \n",
    "    # 4. Gráfico de barras: Tiempo promedio por configuración ordenado\n",
    "    df_sorted = df_resultados.sort_values('tiempo_prom')\n",
    "    config_labels = [f\"C{i+1}\" for i in range(len(df_sorted))]\n",
    "    \n",
    "    bars = ax4.bar(range(len(df_sorted)), df_sorted['tiempo_prom'], \n",
    "                   color=plt.cm.viridis(np.linspace(0, 1, len(df_sorted))), \n",
    "                   alpha=0.8, edgecolor='black', linewidth=0.5)\n",
    "    \n",
    "    ax4.set_xlabel('Configuraciones (ordenadas por tiempo)', fontsize=12)\n",
    "    ax4.set_ylabel('Tiempo CPU Promedio (s)', fontsize=12)\n",
    "    ax4.set_title('Tiempo CPU por Configuración', fontsize=14, fontweight='bold')\n",
    "    ax4.set_xticks(range(len(df_sorted)))\n",
    "    ax4.set_xticklabels(config_labels, rotation=45)\n",
    "    ax4.grid(True, alpha=0.3, axis='y')\n",
    "    \n",
    "    # Añadir valores encima de las barras\n",
    "    for i, (bar, tiempo) in enumerate(zip(bars, df_sorted['tiempo_prom'])):\n",
    "        ax4.text(bar.get_x() + bar.get_width()/2, bar.get_height() + 0.01, \n",
    "                f'{tiempo:.2f}s', ha='center', va='bottom', fontsize=9, fontweight='bold')\n",
    "    \n",
    "    # Añadir información de parámetros para las configuraciones más lentas y rápidas\n",
    "    mas_rapida = df_sorted.iloc[0]\n",
    "    mas_lenta = df_sorted.iloc[-1]\n",
    "    \n",
    "    info_text = f\"\"\"\n",
    "    Configuración más rápida: {mas_rapida['tiempo_prom']:.2f}s\n",
    "    Gen: {mas_rapida['n_generaciones']}, Pob: {mas_rapida['n_poblacion']}\n",
    "    \n",
    "    Configuración más lenta: {mas_lenta['tiempo_prom']:.2f}s  \n",
    "    Gen: {mas_lenta['n_generaciones']}, Pob: {mas_lenta['n_poblacion']}\n",
    "    \n",
    "    Factor de diferencia: {mas_lenta['tiempo_prom']/mas_rapida['tiempo_prom']:.1f}x\n",
    "    \"\"\"\n",
    "    \n",
    "    ax4.text(0.02, 0.98, info_text, transform=ax4.transAxes, \n",
    "             bbox=dict(boxstyle=\"round\", facecolor='lightblue', alpha=0.8),\n",
    "             verticalalignment='top', fontsize=10)\n",
    "    \n",
    "    plt.tight_layout()\n",
    "    plt.show()\n",
    "    \n",
    "    # Imprimir análisis detallado\n",
    "    print(\"=\"*70)\n",
    "    print(\"ANÁLISIS DE TIEMPO DE CPU vs PARÁMETROS\")\n",
    "    print(\"=\"*70)\n",
    "    \n",
    "    print(f\"\\nTiempo CPU mínimo: {df_resultados['tiempo_prom'].min():.3f}s\")\n",
    "    print(f\"Tiempo CPU máximo: {df_resultados['tiempo_prom'].max():.3f}s\")\n",
    "    print(f\"Tiempo CPU promedio: {df_resultados['tiempo_prom'].mean():.3f}s\")\n",
    "    print(f\"Diferencia máxima: {df_resultados['tiempo_prom'].max()/df_resultados['tiempo_prom'].min():.1f}x\")\n",
    "    \n",
    "    print(f\"\\nCorrelación Generaciones-Tiempo: {corr_gen:.3f}\")\n",
    "    print(f\"Correlación Población-Tiempo: {corr_pob:.3f}\")\n",
    "    \n",
    "    # Análisis del impacto de cada parámetro\n",
    "    print(\"\\nIMPACTO DE PARÁMETROS EN TIEMPO CPU:\")\n",
    "    print(\"-\" * 40)\n",
    "    \n",
    "    # Agrupar por cada parámetro y ver el efecto en tiempo\n",
    "    for param in ['n_generaciones', 'n_poblacion', 'prob_mutacion', 'prob_cruzamiento', 'tournament_size']:\n",
    "        if param in df_resultados.columns:\n",
    "            grouped = df_resultados.groupby(param)['tiempo_prom'].agg(['mean', 'std']).round(3)\n",
    "            print(f\"\\n{param.replace('_', ' ').title()}:\")\n",
    "            for value, stats in grouped.iterrows():\n",
    "                print(f\"  {value}: {stats['mean']:.3f}s (±{stats['std']:.3f})\")\n",
    "    \n",
    "    return fig\n",
    "\n",
    "# Función auxiliar para crear una tabla resumen\n",
    "def tabla_resumen_tiempo_parametros(df_resultados):\n",
    "    \"\"\"\n",
    "    Crea una tabla resumen del análisis tiempo-parámetros\n",
    "    \"\"\"\n",
    "    print(\"\\n\" + \"=\"*80)\n",
    "    print(\"TABLA RESUMEN: CONFIGURACIONES ORDENADAS POR TIEMPO CPU\")\n",
    "    print(\"=\"*80)\n",
    "    \n",
    "    df_sorted = df_resultados.sort_values('tiempo_prom')\n",
    "    \n",
    "    print(f\"{'Config':<8} {'Gen':<6} {'Pob':<6} {'Mut':<6} {'Cruz':<6} {'Tour':<6} {'Tiempo':<10} {'F.O.Prom':<12}\")\n",
    "    print(\"-\" * 80)\n",
    "    \n",
    "    for i, (idx, row) in enumerate(df_sorted.iterrows()):\n",
    "        print(f\"C{i+1:<7} {row['n_generaciones']:<6} {row['n_poblacion']:<6} \"\n",
    "              f\"{row['prob_mutacion']:<6.1f} {row['prob_cruzamiento']:<6.1f} \"\n",
    "              f\"{row['tournament_size']:<6} {row['tiempo_prom']:<10.3f} {row['promedio']:<12.2f}\")"
   ]
  },
  {
   "cell_type": "code",
   "execution_count": 22,
   "id": "338963fa",
   "metadata": {},
   "outputs": [
    {
     "data": {
      "image/png": "[encoded data removed]",
      "text/plain": [
       "<Figure size 1600x1200 with 5 Axes>"
      ]
     },
     "metadata": {},
     "output_type": "display_data"
    },
    {
     "name": "stdout",
     "output_type": "stream",
     "text": [
      "======================================================================\n",
      "ANÁLISIS DE TIEMPO DE CPU vs PARÁMETROS\n",
      "======================================================================\n",
      "\n",
      "Tiempo CPU mínimo: 0.427s\n",
      "Tiempo CPU máximo: 1.349s\n",
      "Tiempo CPU promedio: 0.826s\n",
      "Diferencia máxima: 3.2x\n",
      "\n",
      "Correlación Generaciones-Tiempo: 0.673\n",
      "Correlación Población-Tiempo: 0.652\n",
      "\n",
      "IMPACTO DE PARÁMETROS EN TIEMPO CPU:\n",
      "----------------------------------------\n",
      "\n",
      "N Generaciones:\n",
      "  200: 0.649s (±0.165)\n",
      "  300: 1.002s (±0.231)\n",
      "\n",
      "N Poblacion:\n",
      "  50: 0.655s (±0.163)\n",
      "  70: 0.997s (±0.240)\n",
      "\n",
      "Prob Mutacion:\n",
      "  0.1: 0.780s (±0.242)\n",
      "  0.3: 0.871s (±0.290)\n",
      "\n",
      "Prob Cruzamiento:\n",
      "  0.6: 0.782s (±0.265)\n",
      "  0.8: 0.869s (±0.270)\n",
      "\n",
      "Tournament Size:\n",
      "  3: 0.827s (±0.266)\n",
      "  5: 0.824s (±0.276)\n",
      "\n",
      "================================================================================\n",
      "TABLA RESUMEN: CONFIGURACIONES ORDENADAS POR TIEMPO CPU\n",
      "================================================================================\n",
      "Config   Gen    Pob    Mut    Cruz   Tour   Tiempo     F.O.Prom    \n",
      "--------------------------------------------------------------------------------\n",
      "C1       200    50     0.1    0.6    5      0.427      145155489527.12\n",
      "C2       200    50     0.3    0.6    3      0.464      138816863761.70\n",
      "C3       200    50     0.1    0.6    3      0.474      145155489527.12\n",
      "C4       200    50     0.1    0.8    3      0.490      141975016127.40\n",
      "C5       200    50     0.3    0.6    5      0.510      138816863761.70\n",
      "C6       200    50     0.1    0.8    5      0.542      141975016127.40\n",
      "C7       200    50     0.3    0.8    3      0.552      146579379121.56\n",
      "C8       200    50     0.3    0.8    5      0.625      146579379121.56\n",
      "C9       200    70     0.1    0.6    3      0.677      144754861621.13\n",
      "C10      200    70     0.1    0.6    5      0.677      144754861621.13\n",
      "C11      300    50     0.1    0.6    5      0.703      142918467608.55\n",
      "C12      200    70     0.1    0.8    5      0.719      144293406355.38\n",
      "C13      300    50     0.3    0.6    5      0.734      138816863761.70\n",
      "C14      200    70     0.3    0.6    3      0.740      147712872674.91\n",
      "C15      300    50     0.3    0.6    3      0.755      138816863761.70\n",
      "C16      300    50     0.1    0.8    5      0.766      136729506778.47\n",
      "C17      300    50     0.1    0.6    3      0.802      142918467608.55\n",
      "C18      200    70     0.1    0.8    3      0.802      144293406355.38\n",
      "C19      300    50     0.3    0.8    5      0.823      146143203615.92\n",
      "C20      200    70     0.3    0.8    5      0.828      147031777668.21\n",
      "C21      300    50     0.3    0.8    3      0.870      146143203615.92\n",
      "C22      200    70     0.3    0.6    5      0.917      147712872674.91\n",
      "C23      300    50     0.1    0.8    3      0.938      136729506778.47\n",
      "C24      200    70     0.3    0.8    3      0.943      147031777668.21\n",
      "C25      300    70     0.1    0.6    3      1.047      142609501959.92\n",
      "C26      300    70     0.1    0.6    5      1.099      142609501959.92\n",
      "C27      300    70     0.1    0.8    5      1.156      144293406355.38\n",
      "C28      300    70     0.1    0.8    3      1.167      144293406355.38\n",
      "C29      300    70     0.3    0.6    3      1.167      146818385882.48\n",
      "C30      300    70     0.3    0.6    5      1.318      146818385882.48\n",
      "C31      300    70     0.3    0.8    5      1.344      147031777668.21\n",
      "C32      300    70     0.3    0.8    3      1.349      147031777668.21\n"
     ]
    }
   ],
   "source": [
    "grafico_tiempo_cpu_parametros(df_resultados)\n",
    "tabla_resumen_tiempo_parametros(df_resultados)"
   ]
  },
  {
   "cell_type": "markdown",
   "id": "fdb4eed2",
   "metadata": {},
   "source": [
    "## Analisis de Escalabilidad"
   ]
  },
  {
   "cell_type": "markdown",
   "id": "d25150e3",
   "metadata": {},
   "source": [
    "## Comparación son soluciones previas (Pyomo)"
   ]
  }
 ],
 "metadata": {
  "kernelspec": {
   "display_name": "pyomo_env",
   "language": "python",
   "name": "python3"
  },
  "language_info": {
   "codemirror_mode": {
    "name": "ipython",
    "version": 3
   },
   "file_extension": ".py",
   "mimetype": "text/x-python",
   "name": "python",
   "nbconvert_exporter": "python",
   "pygments_lexer": "ipython3",
   "version": "3.9.21"
  }
 },
 "nbformat": 4,
 "nbformat_minor": 5
}
